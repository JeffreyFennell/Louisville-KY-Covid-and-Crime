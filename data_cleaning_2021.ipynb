{
 "cells": [
  {
   "cell_type": "code",
   "execution_count": 2,
   "metadata": {},
   "outputs": [],
   "source": [
    "import pandas as pd\n",
    "import numpy as np\n",
    "import matplotlib.pyplot as plt"
   ]
  },
  {
   "attachments": {},
   "cell_type": "markdown",
   "metadata": {},
   "source": [
    "First, I'll bring in the raw data file so that I can see what I'm working with. I'll assign it to variable df so that it can more easily managed."
   ]
  },
  {
   "cell_type": "code",
   "execution_count": 4,
   "metadata": {},
   "outputs": [],
   "source": [
    "df = pd.read_csv('/Users/jeffreyfennell/Desktop/Coding/Git/DA-Unnamed-Project/Practice_Data_Clean/Data/Louisville_Metro_KY_-_Crime_Data_2021.csv', low_memory=False)"
   ]
  },
  {
   "attachments": {},
   "cell_type": "markdown",
   "metadata": {},
   "source": [
    "Let's see what columns we're dealing with here."
   ]
  },
  {
   "cell_type": "code",
   "execution_count": 5,
   "metadata": {},
   "outputs": [
    {
     "data": {
      "text/html": [
       "<div>\n",
       "<style scoped>\n",
       "    .dataframe tbody tr th:only-of-type {\n",
       "        vertical-align: middle;\n",
       "    }\n",
       "\n",
       "    .dataframe tbody tr th {\n",
       "        vertical-align: top;\n",
       "    }\n",
       "\n",
       "    .dataframe thead th {\n",
       "        text-align: right;\n",
       "    }\n",
       "</style>\n",
       "<table border=\"1\" class=\"dataframe\">\n",
       "  <thead>\n",
       "    <tr style=\"text-align: right;\">\n",
       "      <th></th>\n",
       "      <th>INCIDENT_NUMBER</th>\n",
       "      <th>DATE_REPORTED</th>\n",
       "      <th>DATE_OCCURED</th>\n",
       "      <th>BADGE_ID</th>\n",
       "      <th>CRIME_TYPE</th>\n",
       "      <th>UOR_DESC</th>\n",
       "      <th>NIBRS_CODE</th>\n",
       "      <th>UCR_HIERARCHY</th>\n",
       "      <th>ATT_COMP</th>\n",
       "      <th>LMPD_DIVISION</th>\n",
       "      <th>LMPD_BEAT</th>\n",
       "      <th>PREMISE_TYPE</th>\n",
       "      <th>BLOCK_ADDRESS</th>\n",
       "      <th>City</th>\n",
       "      <th>ZIP_CODE</th>\n",
       "      <th>ObjectId</th>\n",
       "    </tr>\n",
       "  </thead>\n",
       "  <tbody>\n",
       "    <tr>\n",
       "      <th>0</th>\n",
       "      <td>80-20-077625</td>\n",
       "      <td>2021/01/01 04:10:00</td>\n",
       "      <td>2020/12/31 20:00:00</td>\n",
       "      <td>8403</td>\n",
       "      <td>VANDALISM</td>\n",
       "      <td>CRIMINAL MISCHIEF - 1ST DEGREE</td>\n",
       "      <td>290</td>\n",
       "      <td>PART II</td>\n",
       "      <td>COMPLETED</td>\n",
       "      <td>6TH DIVISION</td>\n",
       "      <td>613</td>\n",
       "      <td>RESIDENCE / HOME</td>\n",
       "      <td>4100 BLOCK ST FRANCIS LN                      ...</td>\n",
       "      <td>LOUISVILLE</td>\n",
       "      <td>40218.0</td>\n",
       "      <td>1</td>\n",
       "    </tr>\n",
       "    <tr>\n",
       "      <th>1</th>\n",
       "      <td>80-20-077625</td>\n",
       "      <td>2021/01/01 04:10:00</td>\n",
       "      <td>2020/12/31 20:00:00</td>\n",
       "      <td>8403</td>\n",
       "      <td>BURGLARY</td>\n",
       "      <td>BURGLARY - 2ND DEGREE</td>\n",
       "      <td>220</td>\n",
       "      <td>PART I</td>\n",
       "      <td>COMPLETED</td>\n",
       "      <td>6TH DIVISION</td>\n",
       "      <td>613</td>\n",
       "      <td>RESIDENCE / HOME</td>\n",
       "      <td>4100 BLOCK ST FRANCIS LN                      ...</td>\n",
       "      <td>LOUISVILLE</td>\n",
       "      <td>40218.0</td>\n",
       "      <td>2</td>\n",
       "    </tr>\n",
       "    <tr>\n",
       "      <th>2</th>\n",
       "      <td>80-21-000003</td>\n",
       "      <td>2021/01/01 00:03:00</td>\n",
       "      <td>2021/01/01 00:03:00</td>\n",
       "      <td>7939</td>\n",
       "      <td>ASSAULT</td>\n",
       "      <td>ASSAULT - 1ST DEGREE</td>\n",
       "      <td>13A</td>\n",
       "      <td>PART I</td>\n",
       "      <td>COMPLETED</td>\n",
       "      <td>1ST DIVISION</td>\n",
       "      <td>112</td>\n",
       "      <td>HIGHWAY / ROAD / ALLEY</td>\n",
       "      <td>600 BLOCK S 18TH ST                           ...</td>\n",
       "      <td>LOUISVILLE</td>\n",
       "      <td>40203.0</td>\n",
       "      <td>3</td>\n",
       "    </tr>\n",
       "    <tr>\n",
       "      <th>3</th>\n",
       "      <td>80-21-000005</td>\n",
       "      <td>2021/01/01 00:14:00</td>\n",
       "      <td>2021/01/01 00:13:00</td>\n",
       "      <td>5293</td>\n",
       "      <td>ASSAULT</td>\n",
       "      <td>WANTON ENDANGERMENT-1ST DEGREE</td>\n",
       "      <td>13A</td>\n",
       "      <td>PART I</td>\n",
       "      <td>COMPLETED</td>\n",
       "      <td>3RD DIVISION</td>\n",
       "      <td>323</td>\n",
       "      <td>RESIDENCE / HOME</td>\n",
       "      <td>800 BLOCK CANDLEGLOW CT                       ...</td>\n",
       "      <td>LOUISVILLE</td>\n",
       "      <td>40214.0</td>\n",
       "      <td>4</td>\n",
       "    </tr>\n",
       "    <tr>\n",
       "      <th>4</th>\n",
       "      <td>80-21-000006</td>\n",
       "      <td>2021/01/01 00:03:00</td>\n",
       "      <td>2020/12/31 23:03:00</td>\n",
       "      <td>5258</td>\n",
       "      <td>VANDALISM</td>\n",
       "      <td>CRIMINAL MISCHIEF - 1ST DEGREE</td>\n",
       "      <td>290</td>\n",
       "      <td>PART II</td>\n",
       "      <td>COMPLETED</td>\n",
       "      <td>4TH DIVISION</td>\n",
       "      <td>424</td>\n",
       "      <td>DEPARTMENT / DISCOUNT STORE</td>\n",
       "      <td>3200 BLOCK TAYLOR BLVD                        ...</td>\n",
       "      <td>LOUISVILLE</td>\n",
       "      <td>40215.0</td>\n",
       "      <td>5</td>\n",
       "    </tr>\n",
       "  </tbody>\n",
       "</table>\n",
       "</div>"
      ],
      "text/plain": [
       "  INCIDENT_NUMBER        DATE_REPORTED         DATE_OCCURED          BADGE_ID  \\\n",
       "0    80-20-077625  2021/01/01 04:10:00  2020/12/31 20:00:00  8403               \n",
       "1    80-20-077625  2021/01/01 04:10:00  2020/12/31 20:00:00  8403               \n",
       "2    80-21-000003  2021/01/01 00:03:00  2021/01/01 00:03:00  7939               \n",
       "3    80-21-000005  2021/01/01 00:14:00  2021/01/01 00:13:00  5293               \n",
       "4    80-21-000006  2021/01/01 00:03:00  2020/12/31 23:03:00  5258               \n",
       "\n",
       "  CRIME_TYPE                        UOR_DESC NIBRS_CODE UCR_HIERARCHY  \\\n",
       "0  VANDALISM  CRIMINAL MISCHIEF - 1ST DEGREE        290       PART II   \n",
       "1   BURGLARY           BURGLARY - 2ND DEGREE        220        PART I   \n",
       "2    ASSAULT            ASSAULT - 1ST DEGREE        13A        PART I   \n",
       "3    ASSAULT  WANTON ENDANGERMENT-1ST DEGREE        13A        PART I   \n",
       "4  VANDALISM  CRIMINAL MISCHIEF - 1ST DEGREE        290       PART II   \n",
       "\n",
       "    ATT_COMP LMPD_DIVISION LMPD_BEAT  \\\n",
       "0  COMPLETED  6TH DIVISION       613   \n",
       "1  COMPLETED  6TH DIVISION       613   \n",
       "2  COMPLETED  1ST DIVISION       112   \n",
       "3  COMPLETED  3RD DIVISION       323   \n",
       "4  COMPLETED  4TH DIVISION       424   \n",
       "\n",
       "                                    PREMISE_TYPE  \\\n",
       "0  RESIDENCE / HOME                                \n",
       "1  RESIDENCE / HOME                                \n",
       "2  HIGHWAY / ROAD / ALLEY                          \n",
       "3  RESIDENCE / HOME                                \n",
       "4  DEPARTMENT / DISCOUNT STORE                     \n",
       "\n",
       "                                       BLOCK_ADDRESS        City  ZIP_CODE  \\\n",
       "0  4100 BLOCK ST FRANCIS LN                      ...  LOUISVILLE   40218.0   \n",
       "1  4100 BLOCK ST FRANCIS LN                      ...  LOUISVILLE   40218.0   \n",
       "2  600 BLOCK S 18TH ST                           ...  LOUISVILLE   40203.0   \n",
       "3  800 BLOCK CANDLEGLOW CT                       ...  LOUISVILLE   40214.0   \n",
       "4  3200 BLOCK TAYLOR BLVD                        ...  LOUISVILLE   40215.0   \n",
       "\n",
       "   ObjectId  \n",
       "0         1  \n",
       "1         2  \n",
       "2         3  \n",
       "3         4  \n",
       "4         5  "
      ]
     },
     "execution_count": 5,
     "metadata": {},
     "output_type": "execute_result"
    }
   ],
   "source": [
    "df.head()"
   ]
  },
  {
   "attachments": {},
   "cell_type": "markdown",
   "metadata": {},
   "source": [
    "Collect all unneccesary colums into a variable."
   ]
  },
  {
   "cell_type": "code",
   "execution_count": 9,
   "metadata": {},
   "outputs": [],
   "source": [
    "dropped_columns = ['INCIDENT_NUMBER', 'BADGE_ID', 'NIBRS_CODE', 'UCR_HIERARCHY', 'ATT_COMP', 'ObjectId', 'LMPD_BEAT', 'BLOCK_ADDRESS', 'City', 'DATE_REPORTED']"
   ]
  },
  {
   "attachments": {},
   "cell_type": "markdown",
   "metadata": {},
   "source": [
    "For the purposes of my analysis, I'm going to discard any columns that have no discernible effect on the data to be analyzed. To avoid overriting the original data set, I'm going to create a new variable, ndf, to hold the data frame without the useless columns. Using the dropped_columns variable, I'll neatly drop the columns I don't need and assign that to a new variable."
   ]
  },
  {
   "cell_type": "code",
   "execution_count": 29,
   "metadata": {},
   "outputs": [],
   "source": [
    "ndf = df.drop(columns= dropped_columns)\n"
   ]
  },
  {
   "attachments": {},
   "cell_type": "markdown",
   "metadata": {},
   "source": [
    "Here, I'm calling the .head function again in order to make sure that the previous function call executed correctly."
   ]
  },
  {
   "cell_type": "code",
   "execution_count": 30,
   "metadata": {},
   "outputs": [
    {
     "data": {
      "text/html": [
       "<div>\n",
       "<style scoped>\n",
       "    .dataframe tbody tr th:only-of-type {\n",
       "        vertical-align: middle;\n",
       "    }\n",
       "\n",
       "    .dataframe tbody tr th {\n",
       "        vertical-align: top;\n",
       "    }\n",
       "\n",
       "    .dataframe thead th {\n",
       "        text-align: right;\n",
       "    }\n",
       "</style>\n",
       "<table border=\"1\" class=\"dataframe\">\n",
       "  <thead>\n",
       "    <tr style=\"text-align: right;\">\n",
       "      <th></th>\n",
       "      <th>DATE_OCCURED</th>\n",
       "      <th>CRIME_TYPE</th>\n",
       "      <th>UOR_DESC</th>\n",
       "      <th>LMPD_DIVISION</th>\n",
       "      <th>PREMISE_TYPE</th>\n",
       "      <th>ZIP_CODE</th>\n",
       "    </tr>\n",
       "  </thead>\n",
       "  <tbody>\n",
       "    <tr>\n",
       "      <th>0</th>\n",
       "      <td>2020/12/31 20:00:00</td>\n",
       "      <td>VANDALISM</td>\n",
       "      <td>CRIMINAL MISCHIEF - 1ST DEGREE</td>\n",
       "      <td>6TH DIVISION</td>\n",
       "      <td>RESIDENCE / HOME</td>\n",
       "      <td>40218.0</td>\n",
       "    </tr>\n",
       "    <tr>\n",
       "      <th>1</th>\n",
       "      <td>2020/12/31 20:00:00</td>\n",
       "      <td>BURGLARY</td>\n",
       "      <td>BURGLARY - 2ND DEGREE</td>\n",
       "      <td>6TH DIVISION</td>\n",
       "      <td>RESIDENCE / HOME</td>\n",
       "      <td>40218.0</td>\n",
       "    </tr>\n",
       "    <tr>\n",
       "      <th>2</th>\n",
       "      <td>2021/01/01 00:03:00</td>\n",
       "      <td>ASSAULT</td>\n",
       "      <td>ASSAULT - 1ST DEGREE</td>\n",
       "      <td>1ST DIVISION</td>\n",
       "      <td>HIGHWAY / ROAD / ALLEY</td>\n",
       "      <td>40203.0</td>\n",
       "    </tr>\n",
       "    <tr>\n",
       "      <th>3</th>\n",
       "      <td>2021/01/01 00:13:00</td>\n",
       "      <td>ASSAULT</td>\n",
       "      <td>WANTON ENDANGERMENT-1ST DEGREE</td>\n",
       "      <td>3RD DIVISION</td>\n",
       "      <td>RESIDENCE / HOME</td>\n",
       "      <td>40214.0</td>\n",
       "    </tr>\n",
       "    <tr>\n",
       "      <th>4</th>\n",
       "      <td>2020/12/31 23:03:00</td>\n",
       "      <td>VANDALISM</td>\n",
       "      <td>CRIMINAL MISCHIEF - 1ST DEGREE</td>\n",
       "      <td>4TH DIVISION</td>\n",
       "      <td>DEPARTMENT / DISCOUNT STORE</td>\n",
       "      <td>40215.0</td>\n",
       "    </tr>\n",
       "  </tbody>\n",
       "</table>\n",
       "</div>"
      ],
      "text/plain": [
       "          DATE_OCCURED CRIME_TYPE                        UOR_DESC  \\\n",
       "0  2020/12/31 20:00:00  VANDALISM  CRIMINAL MISCHIEF - 1ST DEGREE   \n",
       "1  2020/12/31 20:00:00   BURGLARY           BURGLARY - 2ND DEGREE   \n",
       "2  2021/01/01 00:03:00    ASSAULT            ASSAULT - 1ST DEGREE   \n",
       "3  2021/01/01 00:13:00    ASSAULT  WANTON ENDANGERMENT-1ST DEGREE   \n",
       "4  2020/12/31 23:03:00  VANDALISM  CRIMINAL MISCHIEF - 1ST DEGREE   \n",
       "\n",
       "  LMPD_DIVISION                                   PREMISE_TYPE  ZIP_CODE  \n",
       "0  6TH DIVISION  RESIDENCE / HOME                                40218.0  \n",
       "1  6TH DIVISION  RESIDENCE / HOME                                40218.0  \n",
       "2  1ST DIVISION  HIGHWAY / ROAD / ALLEY                          40203.0  \n",
       "3  3RD DIVISION  RESIDENCE / HOME                                40214.0  \n",
       "4  4TH DIVISION  DEPARTMENT / DISCOUNT STORE                     40215.0  "
      ]
     },
     "execution_count": 30,
     "metadata": {},
     "output_type": "execute_result"
    }
   ],
   "source": [
    "ndf.head()"
   ]
  },
  {
   "attachments": {},
   "cell_type": "markdown",
   "metadata": {},
   "source": [
    "Next, I'm going to utilize the info function to see the Dtypes of all of my data columns. "
   ]
  },
  {
   "cell_type": "code",
   "execution_count": 31,
   "metadata": {},
   "outputs": [
    {
     "name": "stdout",
     "output_type": "stream",
     "text": [
      "<class 'pandas.core.frame.DataFrame'>\n",
      "RangeIndex: 72123 entries, 0 to 72122\n",
      "Data columns (total 6 columns):\n",
      " #   Column         Non-Null Count  Dtype  \n",
      "---  ------         --------------  -----  \n",
      " 0   DATE_OCCURED   72123 non-null  object \n",
      " 1   CRIME_TYPE     72123 non-null  object \n",
      " 2   UOR_DESC       72123 non-null  object \n",
      " 3   LMPD_DIVISION  72123 non-null  object \n",
      " 4   PREMISE_TYPE   72114 non-null  object \n",
      " 5   ZIP_CODE       72098 non-null  float64\n",
      "dtypes: float64(1), object(5)\n",
      "memory usage: 3.3+ MB\n"
     ]
    }
   ],
   "source": [
    "ndf.info()"
   ]
  },
  {
   "attachments": {},
   "cell_type": "markdown",
   "metadata": {},
   "source": [
    "I can see that most of the columns are currently typed as objects. However, I know from earlier that some of these columns have a more appropriate type that can be associated with them. First, I'll attempt to re-type the 'ZIP_CODE' as an OBJECT because zip codes are acting as an identifier."
   ]
  },
  {
   "cell_type": "code",
   "execution_count": 13,
   "metadata": {},
   "outputs": [
    {
     "ename": "IntCastingNaNError",
     "evalue": "Cannot convert non-finite values (NA or inf) to integer",
     "output_type": "error",
     "traceback": [
      "\u001b[0;31m---------------------------------------------------------------------------\u001b[0m",
      "\u001b[0;31mIntCastingNaNError\u001b[0m                        Traceback (most recent call last)",
      "\u001b[0;32m/var/folders/nt/33j272z93nq7qmv7sqkq4x8m0000gn/T/ipykernel_11069/3617064495.py\u001b[0m in \u001b[0;36m<module>\u001b[0;34m\u001b[0m\n\u001b[0;32m----> 1\u001b[0;31m \u001b[0mndf\u001b[0m\u001b[0;34m[\u001b[0m\u001b[0;34m'ZIP_CODE'\u001b[0m\u001b[0;34m]\u001b[0m \u001b[0;34m=\u001b[0m \u001b[0mndf\u001b[0m\u001b[0;34m[\u001b[0m\u001b[0;34m'ZIP_CODE'\u001b[0m\u001b[0;34m]\u001b[0m\u001b[0;34m.\u001b[0m\u001b[0mastype\u001b[0m\u001b[0;34m(\u001b[0m\u001b[0mint\u001b[0m\u001b[0;34m)\u001b[0m\u001b[0;34m\u001b[0m\u001b[0;34m\u001b[0m\u001b[0m\n\u001b[0m",
      "\u001b[0;32m~/opt/anaconda3/lib/python3.9/site-packages/pandas/core/generic.py\u001b[0m in \u001b[0;36mastype\u001b[0;34m(self, dtype, copy, errors)\u001b[0m\n\u001b[1;32m   5910\u001b[0m         \u001b[0;32melse\u001b[0m\u001b[0;34m:\u001b[0m\u001b[0;34m\u001b[0m\u001b[0;34m\u001b[0m\u001b[0m\n\u001b[1;32m   5911\u001b[0m             \u001b[0;31m# else, only a single dtype is given\u001b[0m\u001b[0;34m\u001b[0m\u001b[0;34m\u001b[0m\u001b[0m\n\u001b[0;32m-> 5912\u001b[0;31m             \u001b[0mnew_data\u001b[0m \u001b[0;34m=\u001b[0m \u001b[0mself\u001b[0m\u001b[0;34m.\u001b[0m\u001b[0m_mgr\u001b[0m\u001b[0;34m.\u001b[0m\u001b[0mastype\u001b[0m\u001b[0;34m(\u001b[0m\u001b[0mdtype\u001b[0m\u001b[0;34m=\u001b[0m\u001b[0mdtype\u001b[0m\u001b[0;34m,\u001b[0m \u001b[0mcopy\u001b[0m\u001b[0;34m=\u001b[0m\u001b[0mcopy\u001b[0m\u001b[0;34m,\u001b[0m \u001b[0merrors\u001b[0m\u001b[0;34m=\u001b[0m\u001b[0merrors\u001b[0m\u001b[0;34m)\u001b[0m\u001b[0;34m\u001b[0m\u001b[0;34m\u001b[0m\u001b[0m\n\u001b[0m\u001b[1;32m   5913\u001b[0m             \u001b[0;32mreturn\u001b[0m \u001b[0mself\u001b[0m\u001b[0;34m.\u001b[0m\u001b[0m_constructor\u001b[0m\u001b[0;34m(\u001b[0m\u001b[0mnew_data\u001b[0m\u001b[0;34m)\u001b[0m\u001b[0;34m.\u001b[0m\u001b[0m__finalize__\u001b[0m\u001b[0;34m(\u001b[0m\u001b[0mself\u001b[0m\u001b[0;34m,\u001b[0m \u001b[0mmethod\u001b[0m\u001b[0;34m=\u001b[0m\u001b[0;34m\"astype\"\u001b[0m\u001b[0;34m)\u001b[0m\u001b[0;34m\u001b[0m\u001b[0;34m\u001b[0m\u001b[0m\n\u001b[1;32m   5914\u001b[0m \u001b[0;34m\u001b[0m\u001b[0m\n",
      "\u001b[0;32m~/opt/anaconda3/lib/python3.9/site-packages/pandas/core/internals/managers.py\u001b[0m in \u001b[0;36mastype\u001b[0;34m(self, dtype, copy, errors)\u001b[0m\n\u001b[1;32m    417\u001b[0m \u001b[0;34m\u001b[0m\u001b[0m\n\u001b[1;32m    418\u001b[0m     \u001b[0;32mdef\u001b[0m \u001b[0mastype\u001b[0m\u001b[0;34m(\u001b[0m\u001b[0mself\u001b[0m\u001b[0;34m:\u001b[0m \u001b[0mT\u001b[0m\u001b[0;34m,\u001b[0m \u001b[0mdtype\u001b[0m\u001b[0;34m,\u001b[0m \u001b[0mcopy\u001b[0m\u001b[0;34m:\u001b[0m \u001b[0mbool\u001b[0m \u001b[0;34m=\u001b[0m \u001b[0;32mFalse\u001b[0m\u001b[0;34m,\u001b[0m \u001b[0merrors\u001b[0m\u001b[0;34m:\u001b[0m \u001b[0mstr\u001b[0m \u001b[0;34m=\u001b[0m \u001b[0;34m\"raise\"\u001b[0m\u001b[0;34m)\u001b[0m \u001b[0;34m->\u001b[0m \u001b[0mT\u001b[0m\u001b[0;34m:\u001b[0m\u001b[0;34m\u001b[0m\u001b[0;34m\u001b[0m\u001b[0m\n\u001b[0;32m--> 419\u001b[0;31m         \u001b[0;32mreturn\u001b[0m \u001b[0mself\u001b[0m\u001b[0;34m.\u001b[0m\u001b[0mapply\u001b[0m\u001b[0;34m(\u001b[0m\u001b[0;34m\"astype\"\u001b[0m\u001b[0;34m,\u001b[0m \u001b[0mdtype\u001b[0m\u001b[0;34m=\u001b[0m\u001b[0mdtype\u001b[0m\u001b[0;34m,\u001b[0m \u001b[0mcopy\u001b[0m\u001b[0;34m=\u001b[0m\u001b[0mcopy\u001b[0m\u001b[0;34m,\u001b[0m \u001b[0merrors\u001b[0m\u001b[0;34m=\u001b[0m\u001b[0merrors\u001b[0m\u001b[0;34m)\u001b[0m\u001b[0;34m\u001b[0m\u001b[0;34m\u001b[0m\u001b[0m\n\u001b[0m\u001b[1;32m    420\u001b[0m \u001b[0;34m\u001b[0m\u001b[0m\n\u001b[1;32m    421\u001b[0m     def convert(\n",
      "\u001b[0;32m~/opt/anaconda3/lib/python3.9/site-packages/pandas/core/internals/managers.py\u001b[0m in \u001b[0;36mapply\u001b[0;34m(self, f, align_keys, ignore_failures, **kwargs)\u001b[0m\n\u001b[1;32m    302\u001b[0m                     \u001b[0mapplied\u001b[0m \u001b[0;34m=\u001b[0m \u001b[0mb\u001b[0m\u001b[0;34m.\u001b[0m\u001b[0mapply\u001b[0m\u001b[0;34m(\u001b[0m\u001b[0mf\u001b[0m\u001b[0;34m,\u001b[0m \u001b[0;34m**\u001b[0m\u001b[0mkwargs\u001b[0m\u001b[0;34m)\u001b[0m\u001b[0;34m\u001b[0m\u001b[0;34m\u001b[0m\u001b[0m\n\u001b[1;32m    303\u001b[0m                 \u001b[0;32melse\u001b[0m\u001b[0;34m:\u001b[0m\u001b[0;34m\u001b[0m\u001b[0;34m\u001b[0m\u001b[0m\n\u001b[0;32m--> 304\u001b[0;31m                     \u001b[0mapplied\u001b[0m \u001b[0;34m=\u001b[0m \u001b[0mgetattr\u001b[0m\u001b[0;34m(\u001b[0m\u001b[0mb\u001b[0m\u001b[0;34m,\u001b[0m \u001b[0mf\u001b[0m\u001b[0;34m)\u001b[0m\u001b[0;34m(\u001b[0m\u001b[0;34m**\u001b[0m\u001b[0mkwargs\u001b[0m\u001b[0;34m)\u001b[0m\u001b[0;34m\u001b[0m\u001b[0;34m\u001b[0m\u001b[0m\n\u001b[0m\u001b[1;32m    305\u001b[0m             \u001b[0;32mexcept\u001b[0m \u001b[0;34m(\u001b[0m\u001b[0mTypeError\u001b[0m\u001b[0;34m,\u001b[0m \u001b[0mNotImplementedError\u001b[0m\u001b[0;34m)\u001b[0m\u001b[0;34m:\u001b[0m\u001b[0;34m\u001b[0m\u001b[0;34m\u001b[0m\u001b[0m\n\u001b[1;32m    306\u001b[0m                 \u001b[0;32mif\u001b[0m \u001b[0;32mnot\u001b[0m \u001b[0mignore_failures\u001b[0m\u001b[0;34m:\u001b[0m\u001b[0;34m\u001b[0m\u001b[0;34m\u001b[0m\u001b[0m\n",
      "\u001b[0;32m~/opt/anaconda3/lib/python3.9/site-packages/pandas/core/internals/blocks.py\u001b[0m in \u001b[0;36mastype\u001b[0;34m(self, dtype, copy, errors)\u001b[0m\n\u001b[1;32m    578\u001b[0m         \u001b[0mvalues\u001b[0m \u001b[0;34m=\u001b[0m \u001b[0mself\u001b[0m\u001b[0;34m.\u001b[0m\u001b[0mvalues\u001b[0m\u001b[0;34m\u001b[0m\u001b[0;34m\u001b[0m\u001b[0m\n\u001b[1;32m    579\u001b[0m \u001b[0;34m\u001b[0m\u001b[0m\n\u001b[0;32m--> 580\u001b[0;31m         \u001b[0mnew_values\u001b[0m \u001b[0;34m=\u001b[0m \u001b[0mastype_array_safe\u001b[0m\u001b[0;34m(\u001b[0m\u001b[0mvalues\u001b[0m\u001b[0;34m,\u001b[0m \u001b[0mdtype\u001b[0m\u001b[0;34m,\u001b[0m \u001b[0mcopy\u001b[0m\u001b[0;34m=\u001b[0m\u001b[0mcopy\u001b[0m\u001b[0;34m,\u001b[0m \u001b[0merrors\u001b[0m\u001b[0;34m=\u001b[0m\u001b[0merrors\u001b[0m\u001b[0;34m)\u001b[0m\u001b[0;34m\u001b[0m\u001b[0;34m\u001b[0m\u001b[0m\n\u001b[0m\u001b[1;32m    581\u001b[0m \u001b[0;34m\u001b[0m\u001b[0m\n\u001b[1;32m    582\u001b[0m         \u001b[0mnew_values\u001b[0m \u001b[0;34m=\u001b[0m \u001b[0mmaybe_coerce_values\u001b[0m\u001b[0;34m(\u001b[0m\u001b[0mnew_values\u001b[0m\u001b[0;34m)\u001b[0m\u001b[0;34m\u001b[0m\u001b[0;34m\u001b[0m\u001b[0m\n",
      "\u001b[0;32m~/opt/anaconda3/lib/python3.9/site-packages/pandas/core/dtypes/cast.py\u001b[0m in \u001b[0;36mastype_array_safe\u001b[0;34m(values, dtype, copy, errors)\u001b[0m\n\u001b[1;32m   1290\u001b[0m \u001b[0;34m\u001b[0m\u001b[0m\n\u001b[1;32m   1291\u001b[0m     \u001b[0;32mtry\u001b[0m\u001b[0;34m:\u001b[0m\u001b[0;34m\u001b[0m\u001b[0;34m\u001b[0m\u001b[0m\n\u001b[0;32m-> 1292\u001b[0;31m         \u001b[0mnew_values\u001b[0m \u001b[0;34m=\u001b[0m \u001b[0mastype_array\u001b[0m\u001b[0;34m(\u001b[0m\u001b[0mvalues\u001b[0m\u001b[0;34m,\u001b[0m \u001b[0mdtype\u001b[0m\u001b[0;34m,\u001b[0m \u001b[0mcopy\u001b[0m\u001b[0;34m=\u001b[0m\u001b[0mcopy\u001b[0m\u001b[0;34m)\u001b[0m\u001b[0;34m\u001b[0m\u001b[0;34m\u001b[0m\u001b[0m\n\u001b[0m\u001b[1;32m   1293\u001b[0m     \u001b[0;32mexcept\u001b[0m \u001b[0;34m(\u001b[0m\u001b[0mValueError\u001b[0m\u001b[0;34m,\u001b[0m \u001b[0mTypeError\u001b[0m\u001b[0;34m)\u001b[0m\u001b[0;34m:\u001b[0m\u001b[0;34m\u001b[0m\u001b[0;34m\u001b[0m\u001b[0m\n\u001b[1;32m   1294\u001b[0m         \u001b[0;31m# e.g. astype_nansafe can fail on object-dtype of strings\u001b[0m\u001b[0;34m\u001b[0m\u001b[0;34m\u001b[0m\u001b[0m\n",
      "\u001b[0;32m~/opt/anaconda3/lib/python3.9/site-packages/pandas/core/dtypes/cast.py\u001b[0m in \u001b[0;36mastype_array\u001b[0;34m(values, dtype, copy)\u001b[0m\n\u001b[1;32m   1235\u001b[0m \u001b[0;34m\u001b[0m\u001b[0m\n\u001b[1;32m   1236\u001b[0m     \u001b[0;32melse\u001b[0m\u001b[0;34m:\u001b[0m\u001b[0;34m\u001b[0m\u001b[0;34m\u001b[0m\u001b[0m\n\u001b[0;32m-> 1237\u001b[0;31m         \u001b[0mvalues\u001b[0m \u001b[0;34m=\u001b[0m \u001b[0mastype_nansafe\u001b[0m\u001b[0;34m(\u001b[0m\u001b[0mvalues\u001b[0m\u001b[0;34m,\u001b[0m \u001b[0mdtype\u001b[0m\u001b[0;34m,\u001b[0m \u001b[0mcopy\u001b[0m\u001b[0;34m=\u001b[0m\u001b[0mcopy\u001b[0m\u001b[0;34m)\u001b[0m\u001b[0;34m\u001b[0m\u001b[0;34m\u001b[0m\u001b[0m\n\u001b[0m\u001b[1;32m   1238\u001b[0m \u001b[0;34m\u001b[0m\u001b[0m\n\u001b[1;32m   1239\u001b[0m     \u001b[0;31m# in pandas we don't store numpy str dtypes, so convert to object\u001b[0m\u001b[0;34m\u001b[0m\u001b[0;34m\u001b[0m\u001b[0m\n",
      "\u001b[0;32m~/opt/anaconda3/lib/python3.9/site-packages/pandas/core/dtypes/cast.py\u001b[0m in \u001b[0;36mastype_nansafe\u001b[0;34m(arr, dtype, copy, skipna)\u001b[0m\n\u001b[1;32m   1146\u001b[0m \u001b[0;34m\u001b[0m\u001b[0m\n\u001b[1;32m   1147\u001b[0m     \u001b[0;32melif\u001b[0m \u001b[0mnp\u001b[0m\u001b[0;34m.\u001b[0m\u001b[0missubdtype\u001b[0m\u001b[0;34m(\u001b[0m\u001b[0marr\u001b[0m\u001b[0;34m.\u001b[0m\u001b[0mdtype\u001b[0m\u001b[0;34m,\u001b[0m \u001b[0mnp\u001b[0m\u001b[0;34m.\u001b[0m\u001b[0mfloating\u001b[0m\u001b[0;34m)\u001b[0m \u001b[0;32mand\u001b[0m \u001b[0mnp\u001b[0m\u001b[0;34m.\u001b[0m\u001b[0missubdtype\u001b[0m\u001b[0;34m(\u001b[0m\u001b[0mdtype\u001b[0m\u001b[0;34m,\u001b[0m \u001b[0mnp\u001b[0m\u001b[0;34m.\u001b[0m\u001b[0minteger\u001b[0m\u001b[0;34m)\u001b[0m\u001b[0;34m:\u001b[0m\u001b[0;34m\u001b[0m\u001b[0;34m\u001b[0m\u001b[0m\n\u001b[0;32m-> 1148\u001b[0;31m         \u001b[0;32mreturn\u001b[0m \u001b[0mastype_float_to_int_nansafe\u001b[0m\u001b[0;34m(\u001b[0m\u001b[0marr\u001b[0m\u001b[0;34m,\u001b[0m \u001b[0mdtype\u001b[0m\u001b[0;34m,\u001b[0m \u001b[0mcopy\u001b[0m\u001b[0;34m)\u001b[0m\u001b[0;34m\u001b[0m\u001b[0;34m\u001b[0m\u001b[0m\n\u001b[0m\u001b[1;32m   1149\u001b[0m \u001b[0;34m\u001b[0m\u001b[0m\n\u001b[1;32m   1150\u001b[0m     \u001b[0;32melif\u001b[0m \u001b[0mis_object_dtype\u001b[0m\u001b[0;34m(\u001b[0m\u001b[0marr\u001b[0m\u001b[0;34m.\u001b[0m\u001b[0mdtype\u001b[0m\u001b[0;34m)\u001b[0m\u001b[0;34m:\u001b[0m\u001b[0;34m\u001b[0m\u001b[0;34m\u001b[0m\u001b[0m\n",
      "\u001b[0;32m~/opt/anaconda3/lib/python3.9/site-packages/pandas/core/dtypes/cast.py\u001b[0m in \u001b[0;36mastype_float_to_int_nansafe\u001b[0;34m(values, dtype, copy)\u001b[0m\n\u001b[1;32m   1191\u001b[0m     \"\"\"\n\u001b[1;32m   1192\u001b[0m     \u001b[0;32mif\u001b[0m \u001b[0;32mnot\u001b[0m \u001b[0mnp\u001b[0m\u001b[0;34m.\u001b[0m\u001b[0misfinite\u001b[0m\u001b[0;34m(\u001b[0m\u001b[0mvalues\u001b[0m\u001b[0;34m)\u001b[0m\u001b[0;34m.\u001b[0m\u001b[0mall\u001b[0m\u001b[0;34m(\u001b[0m\u001b[0;34m)\u001b[0m\u001b[0;34m:\u001b[0m\u001b[0;34m\u001b[0m\u001b[0;34m\u001b[0m\u001b[0m\n\u001b[0;32m-> 1193\u001b[0;31m         raise IntCastingNaNError(\n\u001b[0m\u001b[1;32m   1194\u001b[0m             \u001b[0;34m\"Cannot convert non-finite values (NA or inf) to integer\"\u001b[0m\u001b[0;34m\u001b[0m\u001b[0;34m\u001b[0m\u001b[0m\n\u001b[1;32m   1195\u001b[0m         )\n",
      "\u001b[0;31mIntCastingNaNError\u001b[0m: Cannot convert non-finite values (NA or inf) to integer"
     ]
    }
   ],
   "source": [
    "ndf['ZIP_CODE'] = ndf['ZIP_CODE'].astype(int)"
   ]
  },
  {
   "attachments": {},
   "cell_type": "markdown",
   "metadata": {},
   "source": [
    "We've got an error here stating the column can't be converted due to an IntCastingNaNError. To fix this, I'll fill all of the NA values in as 0."
   ]
  },
  {
   "cell_type": "code",
   "execution_count": 32,
   "metadata": {},
   "outputs": [],
   "source": [
    "\n",
    "ndf['ZIP_CODE'] = ndf['ZIP_CODE'].fillna(0)"
   ]
  },
  {
   "attachments": {},
   "cell_type": "markdown",
   "metadata": {},
   "source": [
    "Now, let's attempt to convert this column to int again."
   ]
  },
  {
   "cell_type": "code",
   "execution_count": 33,
   "metadata": {},
   "outputs": [],
   "source": [
    "\n",
    "ndf['ZIP_CODE'] = ndf['ZIP_CODE'].astype(int)\n",
    "ndf['ZIP_CODE'] = ndf['ZIP_CODE'].astype(str)"
   ]
  },
  {
   "attachments": {},
   "cell_type": "markdown",
   "metadata": {},
   "source": [
    "The notebook is not giving an error now, but let's check to be sure. By running the info function, we can see that our conversion successfully executed. Additionally, by running the head function again I can see that the 'ZIP_CODE' column has dropped the decimal points from the the zip codes."
   ]
  },
  {
   "cell_type": "code",
   "execution_count": 34,
   "metadata": {},
   "outputs": [
    {
     "name": "stdout",
     "output_type": "stream",
     "text": [
      "<class 'pandas.core.frame.DataFrame'>\n",
      "RangeIndex: 72123 entries, 0 to 72122\n",
      "Data columns (total 6 columns):\n",
      " #   Column         Non-Null Count  Dtype \n",
      "---  ------         --------------  ----- \n",
      " 0   DATE_OCCURED   72123 non-null  object\n",
      " 1   CRIME_TYPE     72123 non-null  object\n",
      " 2   UOR_DESC       72123 non-null  object\n",
      " 3   LMPD_DIVISION  72123 non-null  object\n",
      " 4   PREMISE_TYPE   72114 non-null  object\n",
      " 5   ZIP_CODE       72123 non-null  object\n",
      "dtypes: object(6)\n",
      "memory usage: 3.3+ MB\n"
     ]
    }
   ],
   "source": [
    "ndf.info()"
   ]
  },
  {
   "cell_type": "code",
   "execution_count": 35,
   "metadata": {},
   "outputs": [
    {
     "data": {
      "text/html": [
       "<div>\n",
       "<style scoped>\n",
       "    .dataframe tbody tr th:only-of-type {\n",
       "        vertical-align: middle;\n",
       "    }\n",
       "\n",
       "    .dataframe tbody tr th {\n",
       "        vertical-align: top;\n",
       "    }\n",
       "\n",
       "    .dataframe thead th {\n",
       "        text-align: right;\n",
       "    }\n",
       "</style>\n",
       "<table border=\"1\" class=\"dataframe\">\n",
       "  <thead>\n",
       "    <tr style=\"text-align: right;\">\n",
       "      <th></th>\n",
       "      <th>DATE_OCCURED</th>\n",
       "      <th>CRIME_TYPE</th>\n",
       "      <th>UOR_DESC</th>\n",
       "      <th>LMPD_DIVISION</th>\n",
       "      <th>PREMISE_TYPE</th>\n",
       "      <th>ZIP_CODE</th>\n",
       "    </tr>\n",
       "  </thead>\n",
       "  <tbody>\n",
       "    <tr>\n",
       "      <th>0</th>\n",
       "      <td>2020/12/31 20:00:00</td>\n",
       "      <td>VANDALISM</td>\n",
       "      <td>CRIMINAL MISCHIEF - 1ST DEGREE</td>\n",
       "      <td>6TH DIVISION</td>\n",
       "      <td>RESIDENCE / HOME</td>\n",
       "      <td>40218</td>\n",
       "    </tr>\n",
       "    <tr>\n",
       "      <th>1</th>\n",
       "      <td>2020/12/31 20:00:00</td>\n",
       "      <td>BURGLARY</td>\n",
       "      <td>BURGLARY - 2ND DEGREE</td>\n",
       "      <td>6TH DIVISION</td>\n",
       "      <td>RESIDENCE / HOME</td>\n",
       "      <td>40218</td>\n",
       "    </tr>\n",
       "    <tr>\n",
       "      <th>2</th>\n",
       "      <td>2021/01/01 00:03:00</td>\n",
       "      <td>ASSAULT</td>\n",
       "      <td>ASSAULT - 1ST DEGREE</td>\n",
       "      <td>1ST DIVISION</td>\n",
       "      <td>HIGHWAY / ROAD / ALLEY</td>\n",
       "      <td>40203</td>\n",
       "    </tr>\n",
       "    <tr>\n",
       "      <th>3</th>\n",
       "      <td>2021/01/01 00:13:00</td>\n",
       "      <td>ASSAULT</td>\n",
       "      <td>WANTON ENDANGERMENT-1ST DEGREE</td>\n",
       "      <td>3RD DIVISION</td>\n",
       "      <td>RESIDENCE / HOME</td>\n",
       "      <td>40214</td>\n",
       "    </tr>\n",
       "    <tr>\n",
       "      <th>4</th>\n",
       "      <td>2020/12/31 23:03:00</td>\n",
       "      <td>VANDALISM</td>\n",
       "      <td>CRIMINAL MISCHIEF - 1ST DEGREE</td>\n",
       "      <td>4TH DIVISION</td>\n",
       "      <td>DEPARTMENT / DISCOUNT STORE</td>\n",
       "      <td>40215</td>\n",
       "    </tr>\n",
       "  </tbody>\n",
       "</table>\n",
       "</div>"
      ],
      "text/plain": [
       "          DATE_OCCURED CRIME_TYPE                        UOR_DESC  \\\n",
       "0  2020/12/31 20:00:00  VANDALISM  CRIMINAL MISCHIEF - 1ST DEGREE   \n",
       "1  2020/12/31 20:00:00   BURGLARY           BURGLARY - 2ND DEGREE   \n",
       "2  2021/01/01 00:03:00    ASSAULT            ASSAULT - 1ST DEGREE   \n",
       "3  2021/01/01 00:13:00    ASSAULT  WANTON ENDANGERMENT-1ST DEGREE   \n",
       "4  2020/12/31 23:03:00  VANDALISM  CRIMINAL MISCHIEF - 1ST DEGREE   \n",
       "\n",
       "  LMPD_DIVISION                                   PREMISE_TYPE ZIP_CODE  \n",
       "0  6TH DIVISION  RESIDENCE / HOME                                 40218  \n",
       "1  6TH DIVISION  RESIDENCE / HOME                                 40218  \n",
       "2  1ST DIVISION  HIGHWAY / ROAD / ALLEY                           40203  \n",
       "3  3RD DIVISION  RESIDENCE / HOME                                 40214  \n",
       "4  4TH DIVISION  DEPARTMENT / DISCOUNT STORE                      40215  "
      ]
     },
     "execution_count": 35,
     "metadata": {},
     "output_type": "execute_result"
    }
   ],
   "source": [
    "ndf.head()"
   ]
  },
  {
   "attachments": {},
   "cell_type": "markdown",
   "metadata": {},
   "source": [
    "I used two different conversions two easily remove the floating points and subsequently changing the column to an object. It's a lazy way of doing this. There are more technical, and efficient, ways to go about getting this result."
   ]
  },
  {
   "attachments": {},
   "cell_type": "markdown",
   "metadata": {},
   "source": [
    "Let's do some more conversions. The time-related column should obviously be listed per the data type it is conveying. By using pandas built in tools, I can convert that column to datetime64 Dtype. As above, I'm calling the info and head functions to check my work."
   ]
  },
  {
   "cell_type": "code",
   "execution_count": 36,
   "metadata": {},
   "outputs": [
    {
     "name": "stdout",
     "output_type": "stream",
     "text": [
      "<class 'pandas.core.frame.DataFrame'>\n",
      "RangeIndex: 72123 entries, 0 to 72122\n",
      "Data columns (total 6 columns):\n",
      " #   Column         Non-Null Count  Dtype         \n",
      "---  ------         --------------  -----         \n",
      " 0   DATE_OCCURED   72123 non-null  datetime64[ns]\n",
      " 1   CRIME_TYPE     72123 non-null  object        \n",
      " 2   UOR_DESC       72123 non-null  object        \n",
      " 3   LMPD_DIVISION  72123 non-null  object        \n",
      " 4   PREMISE_TYPE   72114 non-null  object        \n",
      " 5   ZIP_CODE       72123 non-null  object        \n",
      "dtypes: datetime64[ns](1), object(5)\n",
      "memory usage: 3.3+ MB\n"
     ]
    },
    {
     "data": {
      "text/html": [
       "<div>\n",
       "<style scoped>\n",
       "    .dataframe tbody tr th:only-of-type {\n",
       "        vertical-align: middle;\n",
       "    }\n",
       "\n",
       "    .dataframe tbody tr th {\n",
       "        vertical-align: top;\n",
       "    }\n",
       "\n",
       "    .dataframe thead th {\n",
       "        text-align: right;\n",
       "    }\n",
       "</style>\n",
       "<table border=\"1\" class=\"dataframe\">\n",
       "  <thead>\n",
       "    <tr style=\"text-align: right;\">\n",
       "      <th></th>\n",
       "      <th>DATE_OCCURED</th>\n",
       "      <th>CRIME_TYPE</th>\n",
       "      <th>UOR_DESC</th>\n",
       "      <th>LMPD_DIVISION</th>\n",
       "      <th>PREMISE_TYPE</th>\n",
       "      <th>ZIP_CODE</th>\n",
       "    </tr>\n",
       "  </thead>\n",
       "  <tbody>\n",
       "    <tr>\n",
       "      <th>0</th>\n",
       "      <td>2020-12-31 20:00:00</td>\n",
       "      <td>VANDALISM</td>\n",
       "      <td>CRIMINAL MISCHIEF - 1ST DEGREE</td>\n",
       "      <td>6TH DIVISION</td>\n",
       "      <td>RESIDENCE / HOME</td>\n",
       "      <td>40218</td>\n",
       "    </tr>\n",
       "    <tr>\n",
       "      <th>1</th>\n",
       "      <td>2020-12-31 20:00:00</td>\n",
       "      <td>BURGLARY</td>\n",
       "      <td>BURGLARY - 2ND DEGREE</td>\n",
       "      <td>6TH DIVISION</td>\n",
       "      <td>RESIDENCE / HOME</td>\n",
       "      <td>40218</td>\n",
       "    </tr>\n",
       "    <tr>\n",
       "      <th>2</th>\n",
       "      <td>2021-01-01 00:03:00</td>\n",
       "      <td>ASSAULT</td>\n",
       "      <td>ASSAULT - 1ST DEGREE</td>\n",
       "      <td>1ST DIVISION</td>\n",
       "      <td>HIGHWAY / ROAD / ALLEY</td>\n",
       "      <td>40203</td>\n",
       "    </tr>\n",
       "    <tr>\n",
       "      <th>3</th>\n",
       "      <td>2021-01-01 00:13:00</td>\n",
       "      <td>ASSAULT</td>\n",
       "      <td>WANTON ENDANGERMENT-1ST DEGREE</td>\n",
       "      <td>3RD DIVISION</td>\n",
       "      <td>RESIDENCE / HOME</td>\n",
       "      <td>40214</td>\n",
       "    </tr>\n",
       "    <tr>\n",
       "      <th>4</th>\n",
       "      <td>2020-12-31 23:03:00</td>\n",
       "      <td>VANDALISM</td>\n",
       "      <td>CRIMINAL MISCHIEF - 1ST DEGREE</td>\n",
       "      <td>4TH DIVISION</td>\n",
       "      <td>DEPARTMENT / DISCOUNT STORE</td>\n",
       "      <td>40215</td>\n",
       "    </tr>\n",
       "  </tbody>\n",
       "</table>\n",
       "</div>"
      ],
      "text/plain": [
       "         DATE_OCCURED CRIME_TYPE                        UOR_DESC  \\\n",
       "0 2020-12-31 20:00:00  VANDALISM  CRIMINAL MISCHIEF - 1ST DEGREE   \n",
       "1 2020-12-31 20:00:00   BURGLARY           BURGLARY - 2ND DEGREE   \n",
       "2 2021-01-01 00:03:00    ASSAULT            ASSAULT - 1ST DEGREE   \n",
       "3 2021-01-01 00:13:00    ASSAULT  WANTON ENDANGERMENT-1ST DEGREE   \n",
       "4 2020-12-31 23:03:00  VANDALISM  CRIMINAL MISCHIEF - 1ST DEGREE   \n",
       "\n",
       "  LMPD_DIVISION                                   PREMISE_TYPE ZIP_CODE  \n",
       "0  6TH DIVISION  RESIDENCE / HOME                                 40218  \n",
       "1  6TH DIVISION  RESIDENCE / HOME                                 40218  \n",
       "2  1ST DIVISION  HIGHWAY / ROAD / ALLEY                           40203  \n",
       "3  3RD DIVISION  RESIDENCE / HOME                                 40214  \n",
       "4  4TH DIVISION  DEPARTMENT / DISCOUNT STORE                      40215  "
      ]
     },
     "execution_count": 36,
     "metadata": {},
     "output_type": "execute_result"
    }
   ],
   "source": [
    "ndf['DATE_OCCURED'] = pd.to_datetime(ndf['DATE_OCCURED'])\n",
    "ndf.info()\n",
    "ndf.head()"
   ]
  },
  {
   "attachments": {},
   "cell_type": "markdown",
   "metadata": {},
   "source": [
    "Now, the data frame looks a lot better. I'm going to go ahead and save it to a new csv file."
   ]
  },
  {
   "cell_type": "code",
   "execution_count": 22,
   "metadata": {},
   "outputs": [],
   "source": [
    "# ndf.to_csv('Clean_Louisville_Metro_KY_-_Crime_Data_2021.csv')"
   ]
  },
  {
   "attachments": {},
   "cell_type": "markdown",
   "metadata": {},
   "source": [
    "Use .groupby to sort data into manageable chunks."
   ]
  },
  {
   "cell_type": "code",
   "execution_count": 44,
   "metadata": {},
   "outputs": [
    {
     "ename": "TypeError",
     "evalue": "'DataFrame' object is not callable",
     "output_type": "error",
     "traceback": [
      "\u001b[0;31m---------------------------------------------------------------------------\u001b[0m",
      "\u001b[0;31mTypeError\u001b[0m                                 Traceback (most recent call last)",
      "\u001b[0;32m/var/folders/nt/33j272z93nq7qmv7sqkq4x8m0000gn/T/ipykernel_11069/4031949140.py\u001b[0m in \u001b[0;36m<module>\u001b[0;34m\u001b[0m\n\u001b[1;32m      1\u001b[0m \u001b[0;31m# ndf.set_index('ZIP_CODE', inplace=True)\u001b[0m\u001b[0;34m\u001b[0m\u001b[0;34m\u001b[0m\u001b[0m\n\u001b[1;32m      2\u001b[0m pd.pivot_table(ndf.reset_index(),\n\u001b[0;32m----> 3\u001b[0;31m                \u001b[0mindex\u001b[0m\u001b[0;34m=\u001b[0m\u001b[0;34m'ZIP_CODE'\u001b[0m\u001b[0;34m,\u001b[0m \u001b[0mcolumns\u001b[0m\u001b[0;34m=\u001b[0m \u001b[0;34m[\u001b[0m\u001b[0mndf\u001b[0m\u001b[0;34m(\u001b[0m\u001b[0;34m'CRIME_TYPE'\u001b[0m\u001b[0;34m)\u001b[0m\u001b[0;34m.\u001b[0m\u001b[0mcount\u001b[0m\u001b[0;34m(\u001b[0m\u001b[0;34m)\u001b[0m\u001b[0;34m]\u001b[0m\u001b[0;34m,\u001b[0m \u001b[0mvalues\u001b[0m\u001b[0;34m=\u001b[0m\u001b[0;34m'CRIME_TYPE'\u001b[0m\u001b[0;34m\u001b[0m\u001b[0;34m\u001b[0m\u001b[0m\n\u001b[0m\u001b[1;32m      4\u001b[0m               ).plot(subplots=True)\n",
      "\u001b[0;31mTypeError\u001b[0m: 'DataFrame' object is not callable"
     ]
    }
   ],
   "source": [
    "# ndf.set_index('ZIP_CODE', inplace=True)\n",
    "pd.pivot_table(ndf.reset_index(),\n",
    "               index='ZIP_CODE', columns= [ndf('CRIME_TYPE').count()], values='CRIME_TYPE'\n",
    "              ).plot(subplots=True)"
   ]
  },
  {
   "cell_type": "code",
   "execution_count": 50,
   "metadata": {},
   "outputs": [
    {
     "data": {
      "text/plain": [
       "<AxesSubplot:ylabel='CRIME_TYPE,ZIP_CODE'>"
      ]
     },
     "execution_count": 50,
     "metadata": {},
     "output_type": "execute_result"
    },
    {
     "data": {
      "image/png": "[encoded data removed]",
      "text/plain": [
       "<Figure size 640x480 with 1 Axes>"
      ]
     },
     "metadata": {},
     "output_type": "display_data"
    }
   ],
   "source": [
    "ndf.groupby(['CRIME_TYPE', 'ZIP_CODE'])[['CRIME_TYPE']].count().plot.barh()\n"
   ]
  },
  {
   "cell_type": "code",
   "execution_count": 49,
   "metadata": {},
   "outputs": [
    {
     "data": {
      "text/plain": [
       "ASSAULT                     17069\n",
       "THEFT/LARCENY               10828\n",
       "OTHER                       10230\n",
       "VEHICLE BREAK-IN/THEFT       6294\n",
       "VANDALISM                    6021\n",
       "DRUGS/ALCOHOL VIOLATIONS     5142\n",
       "FRAUD                        4342\n",
       "MOTOR VEHICLE THEFT          4336\n",
       "BURGLARY                     4274\n",
       "ROBBERY                      1312\n",
       "WEAPONS                      1017\n",
       "SEX CRIMES                    545\n",
       "DISTURBING THE PEACE          337\n",
       "HOMICIDE                      196\n",
       "ARSON                         180\n",
       "Name: CRIME_TYPE, dtype: int64"
      ]
     },
     "execution_count": 49,
     "metadata": {},
     "output_type": "execute_result"
    }
   ],
   "source": [
    "ndf.CRIME_TYPE.value_counts()"
   ]
  },
  {
   "cell_type": "code",
   "execution_count": 48,
   "metadata": {},
   "outputs": [
    {
     "data": {
      "text/plain": [
       "<AxesSubplot:>"
      ]
     },
     "execution_count": 48,
     "metadata": {},
     "output_type": "execute_result"
    },
    {
     "data": {
      "image/png": "[encoded data removed]",
      "text/plain": [
       "<Figure size 640x480 with 1 Axes>"
      ]
     },
     "metadata": {},
     "output_type": "display_data"
    }
   ],
   "source": [
    "\n",
    "ndf.CRIME_TYPE.value_counts().plot.barh()\n"
   ]
  },
  {
   "attachments": {},
   "cell_type": "markdown",
   "metadata": {},
   "source": [
    "With our newly cleaned data, let's start deriving some initial insights from it. Let's simple and..."
   ]
  },
  {
   "cell_type": "code",
   "execution_count": 44,
   "metadata": {},
   "outputs": [
    {
     "data": {
      "image/png": "[encoded data removed]",
      "text/plain": [
       "<Figure size 640x480 with 1 Axes>"
      ]
     },
     "metadata": {},
     "output_type": "display_data"
    },
    {
     "ename": "IndexError",
     "evalue": "index 10 is out of bounds for axis 0 with size 7",
     "output_type": "error",
     "traceback": [
      "\u001b[0;31m---------------------------------------------------------------------------\u001b[0m",
      "\u001b[0;31mIndexError\u001b[0m                                Traceback (most recent call last)",
      "\u001b[0;32m/var/folders/nt/33j272z93nq7qmv7sqkq4x8m0000gn/T/ipykernel_6027/1148519870.py\u001b[0m in \u001b[0;36m<module>\u001b[0;34m\u001b[0m\n\u001b[1;32m      1\u001b[0m \u001b[0mplt\u001b[0m\u001b[0;34m.\u001b[0m\u001b[0mbar\u001b[0m\u001b[0;34m(\u001b[0m\u001b[0mndf\u001b[0m\u001b[0;34m[\u001b[0m\u001b[0;34m'ZIP_CODE'\u001b[0m\u001b[0;34m]\u001b[0m\u001b[0;34m,\u001b[0m \u001b[0mlen\u001b[0m\u001b[0;34m(\u001b[0m\u001b[0mndf\u001b[0m\u001b[0;34m[\u001b[0m\u001b[0;34m'CRIME_TYPE'\u001b[0m\u001b[0;34m]\u001b[0m\u001b[0;34m)\u001b[0m\u001b[0;34m)\u001b[0m\u001b[0;34m\u001b[0m\u001b[0;34m\u001b[0m\u001b[0m\n\u001b[1;32m      2\u001b[0m \u001b[0mplt\u001b[0m\u001b[0;34m.\u001b[0m\u001b[0mshow\u001b[0m\u001b[0;34m(\u001b[0m\u001b[0;34m)\u001b[0m\u001b[0;34m\u001b[0m\u001b[0;34m\u001b[0m\u001b[0m\n\u001b[0;32m----> 3\u001b[0;31m \u001b[0mndf\u001b[0m\u001b[0;34m.\u001b[0m\u001b[0mplot\u001b[0m\u001b[0;34m(\u001b[0m\u001b[0mkind\u001b[0m \u001b[0;34m=\u001b[0m \u001b[0;34m'bar'\u001b[0m\u001b[0;34m,\u001b[0m \u001b[0mx\u001b[0m \u001b[0;34m=\u001b[0m \u001b[0;34m'ZIP_CODE'\u001b[0m\u001b[0;34m,\u001b[0m \u001b[0my\u001b[0m \u001b[0;34m=\u001b[0m \u001b[0;34m[\u001b[0m\u001b[0mlen\u001b[0m\u001b[0;34m(\u001b[0m\u001b[0;34m\"CRIME_TYPE\"\u001b[0m\u001b[0;34m)\u001b[0m\u001b[0;34m]\u001b[0m\u001b[0;34m)\u001b[0m\u001b[0;34m\u001b[0m\u001b[0;34m\u001b[0m\u001b[0m\n\u001b[0m",
      "\u001b[0;32m~/opt/anaconda3/lib/python3.9/site-packages/pandas/plotting/_core.py\u001b[0m in \u001b[0;36m__call__\u001b[0;34m(self, *args, **kwargs)\u001b[0m\n\u001b[1;32m    943\u001b[0m                 \u001b[0mint_y_arg\u001b[0m \u001b[0;34m=\u001b[0m \u001b[0mis_integer\u001b[0m\u001b[0;34m(\u001b[0m\u001b[0my\u001b[0m\u001b[0;34m)\u001b[0m \u001b[0;32mor\u001b[0m \u001b[0mint_ylist\u001b[0m\u001b[0;34m\u001b[0m\u001b[0;34m\u001b[0m\u001b[0m\n\u001b[1;32m    944\u001b[0m                 \u001b[0;32mif\u001b[0m \u001b[0mint_y_arg\u001b[0m \u001b[0;32mand\u001b[0m \u001b[0;32mnot\u001b[0m \u001b[0mdata\u001b[0m\u001b[0;34m.\u001b[0m\u001b[0mcolumns\u001b[0m\u001b[0;34m.\u001b[0m\u001b[0mholds_integer\u001b[0m\u001b[0;34m(\u001b[0m\u001b[0;34m)\u001b[0m\u001b[0;34m:\u001b[0m\u001b[0;34m\u001b[0m\u001b[0;34m\u001b[0m\u001b[0m\n\u001b[0;32m--> 945\u001b[0;31m                     \u001b[0my\u001b[0m \u001b[0;34m=\u001b[0m \u001b[0mdata_cols\u001b[0m\u001b[0;34m[\u001b[0m\u001b[0my\u001b[0m\u001b[0;34m]\u001b[0m\u001b[0;34m\u001b[0m\u001b[0;34m\u001b[0m\u001b[0m\n\u001b[0m\u001b[1;32m    946\u001b[0m \u001b[0;34m\u001b[0m\u001b[0m\n\u001b[1;32m    947\u001b[0m                 \u001b[0mlabel_kw\u001b[0m \u001b[0;34m=\u001b[0m \u001b[0mkwargs\u001b[0m\u001b[0;34m[\u001b[0m\u001b[0;34m\"label\"\u001b[0m\u001b[0;34m]\u001b[0m \u001b[0;32mif\u001b[0m \u001b[0;34m\"label\"\u001b[0m \u001b[0;32min\u001b[0m \u001b[0mkwargs\u001b[0m \u001b[0;32melse\u001b[0m \u001b[0;32mFalse\u001b[0m\u001b[0;34m\u001b[0m\u001b[0;34m\u001b[0m\u001b[0m\n",
      "\u001b[0;32m~/opt/anaconda3/lib/python3.9/site-packages/pandas/core/indexes/base.py\u001b[0m in \u001b[0;36m__getitem__\u001b[0;34m(self, key)\u001b[0m\n\u001b[1;32m   5067\u001b[0m             \u001b[0mkey\u001b[0m \u001b[0;34m=\u001b[0m \u001b[0mnp\u001b[0m\u001b[0;34m.\u001b[0m\u001b[0masarray\u001b[0m\u001b[0;34m(\u001b[0m\u001b[0mkey\u001b[0m\u001b[0;34m,\u001b[0m \u001b[0mdtype\u001b[0m\u001b[0;34m=\u001b[0m\u001b[0mbool\u001b[0m\u001b[0;34m)\u001b[0m\u001b[0;34m\u001b[0m\u001b[0;34m\u001b[0m\u001b[0m\n\u001b[1;32m   5068\u001b[0m \u001b[0;34m\u001b[0m\u001b[0m\n\u001b[0;32m-> 5069\u001b[0;31m         \u001b[0mresult\u001b[0m \u001b[0;34m=\u001b[0m \u001b[0mgetitem\u001b[0m\u001b[0;34m(\u001b[0m\u001b[0mkey\u001b[0m\u001b[0;34m)\u001b[0m\u001b[0;34m\u001b[0m\u001b[0;34m\u001b[0m\u001b[0m\n\u001b[0m\u001b[1;32m   5070\u001b[0m         \u001b[0;31m# Because we ruled out integer above, we always get an arraylike here\u001b[0m\u001b[0;34m\u001b[0m\u001b[0;34m\u001b[0m\u001b[0m\n\u001b[1;32m   5071\u001b[0m         \u001b[0;32mif\u001b[0m \u001b[0mresult\u001b[0m\u001b[0;34m.\u001b[0m\u001b[0mndim\u001b[0m \u001b[0;34m>\u001b[0m \u001b[0;36m1\u001b[0m\u001b[0;34m:\u001b[0m\u001b[0;34m\u001b[0m\u001b[0;34m\u001b[0m\u001b[0m\n",
      "\u001b[0;31mIndexError\u001b[0m: index 10 is out of bounds for axis 0 with size 7"
     ]
    }
   ],
   "source": [
    "plt.bar(ndf['ZIP_CODE'], len(ndf['CRIME_TYPE']))\n",
    "plt.show()\n",
    "ndf.plot(kind = 'bar', x = 'ZIP_CODE', y = [len(\"CRIME_TYPE\")])\n"
   ]
  }
 ],
 "metadata": {
  "kernelspec": {
   "display_name": "Python 3 (ipykernel)",
   "language": "python",
   "name": "python3"
  },
  "language_info": {
   "codemirror_mode": {
    "name": "ipython",
    "version": 3
   },
   "file_extension": ".py",
   "mimetype": "text/x-python",
   "name": "python",
   "nbconvert_exporter": "python",
   "pygments_lexer": "ipython3",
   "version": "3.9.13"
  },
  "vscode": {
   "interpreter": {
    "hash": "bbf6b1e44a74adad0e4d6c2bdc6230d7f1b5d34bbbf628593b294b0798f964d1"
   }
  }
 },
 "nbformat": 4,
 "nbformat_minor": 2
}
