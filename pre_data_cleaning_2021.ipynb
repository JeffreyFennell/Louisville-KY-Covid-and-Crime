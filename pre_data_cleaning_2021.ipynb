{
 "cells": [
  {
   "cell_type": "code",
   "execution_count": 1,
   "metadata": {},
   "outputs": [],
   "source": [
    "import pandas as pd\n",
    "import numpy as np\n",
    "import matplotlib.pyplot as plt"
   ]
  },
  {
   "attachments": {},
   "cell_type": "markdown",
   "metadata": {},
   "source": [
    "First, I'll bring in the raw data file so that I can see what I'm working with. I'll assign it to variable df so that it can more easily managed."
   ]
  },
  {
   "cell_type": "code",
   "execution_count": 2,
   "metadata": {},
   "outputs": [],
   "source": [
    "df = pd.read_csv('assets/Louisville_Metro_KY_-_Crime_Data_2021.csv', low_memory=False)"
   ]
  },
  {
   "cell_type": "code",
   "execution_count": 54,
   "metadata": {},
   "outputs": [],
   "source": [
    "# df.info()"
   ]
  },
  {
   "attachments": {},
   "cell_type": "markdown",
   "metadata": {},
   "source": [
    "I'll use the .columns suffix to retrieve my column headers. From there I'll determine which headers can dropped and assign them to a variable to easily refer to them later without having to type them out again."
   ]
  },
  {
   "cell_type": "code",
   "execution_count": 55,
   "metadata": {},
   "outputs": [],
   "source": [
    "# df.columns\n",
    "dropped_columns = ['INCIDENT_NUMBER', 'BADGE_ID', 'NIBRS_CODE', 'UCR_HIERARCHY', 'ATT_COMP', 'ObjectId', 'LMPD_BEAT', 'BLOCK_ADDRESS', 'City', 'DATE_REPORTED']"
   ]
  },
  {
   "attachments": {},
   "cell_type": "markdown",
   "metadata": {},
   "source": [
    "For the purposes of my analysis, I'm going to discard any columns that have no discernible effect on the data to be analyzed. To avoid overriting the original data set, I'm going to create a new variable, ndf, to hold the data frame without the useless columns."
   ]
  },
  {
   "cell_type": "code",
   "execution_count": 44,
   "metadata": {},
   "outputs": [],
   "source": [
    "ndf = df.drop(columns= dropped_columns)"
   ]
  },
  {
   "attachments": {},
   "cell_type": "markdown",
   "metadata": {},
   "source": [
    "Here, I'm calling the .head function again in order to make sure that the previous function call executed correctly."
   ]
  },
  {
   "cell_type": "code",
   "execution_count": 45,
   "metadata": {},
   "outputs": [
    {
     "data": {
      "text/html": [
       "<div>\n",
       "<style scoped>\n",
       "    .dataframe tbody tr th:only-of-type {\n",
       "        vertical-align: middle;\n",
       "    }\n",
       "\n",
       "    .dataframe tbody tr th {\n",
       "        vertical-align: top;\n",
       "    }\n",
       "\n",
       "    .dataframe thead th {\n",
       "        text-align: right;\n",
       "    }\n",
       "</style>\n",
       "<table border=\"1\" class=\"dataframe\">\n",
       "  <thead>\n",
       "    <tr style=\"text-align: right;\">\n",
       "      <th></th>\n",
       "      <th>DATE_OCCURED</th>\n",
       "      <th>CRIME_TYPE</th>\n",
       "      <th>UOR_DESC</th>\n",
       "      <th>LMPD_DIVISION</th>\n",
       "      <th>PREMISE_TYPE</th>\n",
       "      <th>ZIP_CODE</th>\n",
       "    </tr>\n",
       "  </thead>\n",
       "  <tbody>\n",
       "    <tr>\n",
       "      <th>0</th>\n",
       "      <td>2020/12/31 20:00:00</td>\n",
       "      <td>VANDALISM</td>\n",
       "      <td>CRIMINAL MISCHIEF - 1ST DEGREE</td>\n",
       "      <td>6TH DIVISION</td>\n",
       "      <td>RESIDENCE / HOME</td>\n",
       "      <td>40218.0</td>\n",
       "    </tr>\n",
       "    <tr>\n",
       "      <th>1</th>\n",
       "      <td>2020/12/31 20:00:00</td>\n",
       "      <td>BURGLARY</td>\n",
       "      <td>BURGLARY - 2ND DEGREE</td>\n",
       "      <td>6TH DIVISION</td>\n",
       "      <td>RESIDENCE / HOME</td>\n",
       "      <td>40218.0</td>\n",
       "    </tr>\n",
       "    <tr>\n",
       "      <th>2</th>\n",
       "      <td>2021/01/01 00:03:00</td>\n",
       "      <td>ASSAULT</td>\n",
       "      <td>ASSAULT - 1ST DEGREE</td>\n",
       "      <td>1ST DIVISION</td>\n",
       "      <td>HIGHWAY / ROAD / ALLEY</td>\n",
       "      <td>40203.0</td>\n",
       "    </tr>\n",
       "    <tr>\n",
       "      <th>3</th>\n",
       "      <td>2021/01/01 00:13:00</td>\n",
       "      <td>ASSAULT</td>\n",
       "      <td>WANTON ENDANGERMENT-1ST DEGREE</td>\n",
       "      <td>3RD DIVISION</td>\n",
       "      <td>RESIDENCE / HOME</td>\n",
       "      <td>40214.0</td>\n",
       "    </tr>\n",
       "    <tr>\n",
       "      <th>4</th>\n",
       "      <td>2020/12/31 23:03:00</td>\n",
       "      <td>VANDALISM</td>\n",
       "      <td>CRIMINAL MISCHIEF - 1ST DEGREE</td>\n",
       "      <td>4TH DIVISION</td>\n",
       "      <td>DEPARTMENT / DISCOUNT STORE</td>\n",
       "      <td>40215.0</td>\n",
       "    </tr>\n",
       "  </tbody>\n",
       "</table>\n",
       "</div>"
      ],
      "text/plain": [
       "          DATE_OCCURED CRIME_TYPE                        UOR_DESC  \\\n",
       "0  2020/12/31 20:00:00  VANDALISM  CRIMINAL MISCHIEF - 1ST DEGREE   \n",
       "1  2020/12/31 20:00:00   BURGLARY           BURGLARY - 2ND DEGREE   \n",
       "2  2021/01/01 00:03:00    ASSAULT            ASSAULT - 1ST DEGREE   \n",
       "3  2021/01/01 00:13:00    ASSAULT  WANTON ENDANGERMENT-1ST DEGREE   \n",
       "4  2020/12/31 23:03:00  VANDALISM  CRIMINAL MISCHIEF - 1ST DEGREE   \n",
       "\n",
       "  LMPD_DIVISION                                   PREMISE_TYPE  ZIP_CODE  \n",
       "0  6TH DIVISION  RESIDENCE / HOME                                40218.0  \n",
       "1  6TH DIVISION  RESIDENCE / HOME                                40218.0  \n",
       "2  1ST DIVISION  HIGHWAY / ROAD / ALLEY                          40203.0  \n",
       "3  3RD DIVISION  RESIDENCE / HOME                                40214.0  \n",
       "4  4TH DIVISION  DEPARTMENT / DISCOUNT STORE                     40215.0  "
      ]
     },
     "execution_count": 45,
     "metadata": {},
     "output_type": "execute_result"
    }
   ],
   "source": [
    "ndf.head()"
   ]
  },
  {
   "attachments": {},
   "cell_type": "markdown",
   "metadata": {},
   "source": [
    "Next, I'm going to utilize the info function to see the Dtypes of all of my data columns. "
   ]
  },
  {
   "cell_type": "code",
   "execution_count": 46,
   "metadata": {},
   "outputs": [
    {
     "name": "stdout",
     "output_type": "stream",
     "text": [
      "<class 'pandas.core.frame.DataFrame'>\n",
      "RangeIndex: 72123 entries, 0 to 72122\n",
      "Data columns (total 6 columns):\n",
      " #   Column         Non-Null Count  Dtype  \n",
      "---  ------         --------------  -----  \n",
      " 0   DATE_OCCURED   72123 non-null  object \n",
      " 1   CRIME_TYPE     72123 non-null  object \n",
      " 2   UOR_DESC       72123 non-null  object \n",
      " 3   LMPD_DIVISION  72123 non-null  object \n",
      " 4   PREMISE_TYPE   72114 non-null  object \n",
      " 5   ZIP_CODE       72098 non-null  float64\n",
      "dtypes: float64(1), object(5)\n",
      "memory usage: 3.3+ MB\n"
     ]
    }
   ],
   "source": [
    "ndf.info()"
   ]
  },
  {
   "cell_type": "code",
   "execution_count": 56,
   "metadata": {},
   "outputs": [
    {
     "name": "stderr",
     "output_type": "stream",
     "text": [
      "/var/folders/nt/33j272z93nq7qmv7sqkq4x8m0000gn/T/ipykernel_36984/2678890879.py:2: FutureWarning: In a future version of pandas all arguments of Series.dropna will be keyword-only.\n",
      "  ndf['ZIP_CODE'] = ndf['ZIP_CODE'].dropna(0)\n"
     ]
    }
   ],
   "source": [
    "# ndf['ZIP_CODE'] = ndf['ZIP_CODE'].fillna(0)\n",
    "ndf['ZIP_CODE'] = ndf['ZIP_CODE'].dropna(0)\n",
    "ndf['ZIP_CODE'] = ndf['ZIP_CODE'].astype(int)"
   ]
  },
  {
   "attachments": {},
   "cell_type": "markdown",
   "metadata": {},
   "source": [
    "<!-- **I can see that most of the columns are currently typed as objects. However, I know from earlier that some of these columns have a more appropriate type that can be associated with them. First, I'll attempt to re-type the 'ZIP_CODE' as an integer because zip codes don't make sense as floats.** -->"
   ]
  },
  {
   "cell_type": "code",
   "execution_count": 61,
   "metadata": {},
   "outputs": [
    {
     "data": {
      "text/plain": [
       "0        40218\n",
       "1        40218\n",
       "2        40203\n",
       "3        40214\n",
       "4        40215\n",
       "         ...  \n",
       "72118    40218\n",
       "72119    40211\n",
       "72120    40218\n",
       "72121    40202\n",
       "72122    40218\n",
       "Name: ZIP_CODE, Length: 72098, dtype: int64"
      ]
     },
     "execution_count": 61,
     "metadata": {},
     "output_type": "execute_result"
    }
   ],
   "source": [
    "ndf['ZIP_CODE'].sort_index()\n"
   ]
  },
  {
   "cell_type": "code",
   "execution_count": 52,
   "metadata": {},
   "outputs": [
    {
     "name": "stdout",
     "output_type": "stream",
     "text": [
      "<class 'pandas.core.frame.DataFrame'>\n",
      "Int64Index: 72098 entries, 0 to 72122\n",
      "Data columns (total 6 columns):\n",
      " #   Column         Non-Null Count  Dtype \n",
      "---  ------         --------------  ----- \n",
      " 0   DATE_OCCURED   72098 non-null  object\n",
      " 1   CRIME_TYPE     72098 non-null  object\n",
      " 2   UOR_DESC       72098 non-null  object\n",
      " 3   LMPD_DIVISION  72098 non-null  object\n",
      " 4   PREMISE_TYPE   72089 non-null  object\n",
      " 5   ZIP_CODE       72098 non-null  int64 \n",
      "dtypes: int64(1), object(5)\n",
      "memory usage: 3.9+ MB\n"
     ]
    }
   ],
   "source": [
    "ndf.info()"
   ]
  },
  {
   "attachments": {},
   "cell_type": "markdown",
   "metadata": {},
   "source": [
    "<!-- **We've got an error here stating the column can't be converted due to an IntCastingNaNError. To fix this, I'll fill all of the NA values in as 0.** -->"
   ]
  },
  {
   "cell_type": "code",
   "execution_count": 13,
   "metadata": {},
   "outputs": [
    {
     "data": {
      "text/html": [
       "<div>\n",
       "<style scoped>\n",
       "    .dataframe tbody tr th:only-of-type {\n",
       "        vertical-align: middle;\n",
       "    }\n",
       "\n",
       "    .dataframe tbody tr th {\n",
       "        vertical-align: top;\n",
       "    }\n",
       "\n",
       "    .dataframe thead th {\n",
       "        text-align: right;\n",
       "    }\n",
       "</style>\n",
       "<table border=\"1\" class=\"dataframe\">\n",
       "  <thead>\n",
       "    <tr style=\"text-align: right;\">\n",
       "      <th></th>\n",
       "      <th>DATE_OCCURED</th>\n",
       "      <th>CRIME_TYPE</th>\n",
       "      <th>UOR_DESC</th>\n",
       "      <th>LMPD_DIVISION</th>\n",
       "      <th>PREMISE_TYPE</th>\n",
       "      <th>ZIP_CODE</th>\n",
       "    </tr>\n",
       "  </thead>\n",
       "  <tbody>\n",
       "    <tr>\n",
       "      <th>0</th>\n",
       "      <td>2020/12/31 20:00:00</td>\n",
       "      <td>VANDALISM</td>\n",
       "      <td>CRIMINAL MISCHIEF - 1ST DEGREE</td>\n",
       "      <td>6TH DIVISION</td>\n",
       "      <td>RESIDENCE / HOME</td>\n",
       "      <td>40218</td>\n",
       "    </tr>\n",
       "    <tr>\n",
       "      <th>1</th>\n",
       "      <td>2020/12/31 20:00:00</td>\n",
       "      <td>BURGLARY</td>\n",
       "      <td>BURGLARY - 2ND DEGREE</td>\n",
       "      <td>6TH DIVISION</td>\n",
       "      <td>RESIDENCE / HOME</td>\n",
       "      <td>40218</td>\n",
       "    </tr>\n",
       "    <tr>\n",
       "      <th>2</th>\n",
       "      <td>2021/01/01 00:03:00</td>\n",
       "      <td>ASSAULT</td>\n",
       "      <td>ASSAULT - 1ST DEGREE</td>\n",
       "      <td>1ST DIVISION</td>\n",
       "      <td>HIGHWAY / ROAD / ALLEY</td>\n",
       "      <td>40203</td>\n",
       "    </tr>\n",
       "    <tr>\n",
       "      <th>3</th>\n",
       "      <td>2021/01/01 00:13:00</td>\n",
       "      <td>ASSAULT</td>\n",
       "      <td>WANTON ENDANGERMENT-1ST DEGREE</td>\n",
       "      <td>3RD DIVISION</td>\n",
       "      <td>RESIDENCE / HOME</td>\n",
       "      <td>40214</td>\n",
       "    </tr>\n",
       "    <tr>\n",
       "      <th>4</th>\n",
       "      <td>2020/12/31 23:03:00</td>\n",
       "      <td>VANDALISM</td>\n",
       "      <td>CRIMINAL MISCHIEF - 1ST DEGREE</td>\n",
       "      <td>4TH DIVISION</td>\n",
       "      <td>DEPARTMENT / DISCOUNT STORE</td>\n",
       "      <td>40215</td>\n",
       "    </tr>\n",
       "  </tbody>\n",
       "</table>\n",
       "</div>"
      ],
      "text/plain": [
       "          DATE_OCCURED CRIME_TYPE                        UOR_DESC  \\\n",
       "0  2020/12/31 20:00:00  VANDALISM  CRIMINAL MISCHIEF - 1ST DEGREE   \n",
       "1  2020/12/31 20:00:00   BURGLARY           BURGLARY - 2ND DEGREE   \n",
       "2  2021/01/01 00:03:00    ASSAULT            ASSAULT - 1ST DEGREE   \n",
       "3  2021/01/01 00:13:00    ASSAULT  WANTON ENDANGERMENT-1ST DEGREE   \n",
       "4  2020/12/31 23:03:00  VANDALISM  CRIMINAL MISCHIEF - 1ST DEGREE   \n",
       "\n",
       "  LMPD_DIVISION                                   PREMISE_TYPE  ZIP_CODE  \n",
       "0  6TH DIVISION  RESIDENCE / HOME                                  40218  \n",
       "1  6TH DIVISION  RESIDENCE / HOME                                  40218  \n",
       "2  1ST DIVISION  HIGHWAY / ROAD / ALLEY                            40203  \n",
       "3  3RD DIVISION  RESIDENCE / HOME                                  40214  \n",
       "4  4TH DIVISION  DEPARTMENT / DISCOUNT STORE                       40215  "
      ]
     },
     "execution_count": 13,
     "metadata": {},
     "output_type": "execute_result"
    }
   ],
   "source": [
    "ndf.head()"
   ]
  },
  {
   "cell_type": "code",
   "execution_count": 14,
   "metadata": {},
   "outputs": [],
   "source": [
    "\n",
    "# ndf['ZIP_CODE'] = ndf['ZIP_CODE'].fillna(0)"
   ]
  },
  {
   "attachments": {},
   "cell_type": "markdown",
   "metadata": {},
   "source": [
    "Now, let's attempt to convert this column to int again."
   ]
  },
  {
   "cell_type": "code",
   "execution_count": 15,
   "metadata": {},
   "outputs": [],
   "source": [
    "\n",
    "ndf['ZIP_CODE'] = ndf['ZIP_CODE'].astype(str)"
   ]
  },
  {
   "attachments": {},
   "cell_type": "markdown",
   "metadata": {},
   "source": [
    "The notebook is not giving an error now, but let's check to be sure. By running the info function, we can see that our conversion successfully executed. Additionally, by running the head function again I can see that the 'ZIP_CODE' column has dropped the decimal points from the the zip codes."
   ]
  },
  {
   "cell_type": "code",
   "execution_count": 16,
   "metadata": {},
   "outputs": [
    {
     "name": "stdout",
     "output_type": "stream",
     "text": [
      "<class 'pandas.core.frame.DataFrame'>\n",
      "RangeIndex: 72123 entries, 0 to 72122\n",
      "Data columns (total 6 columns):\n",
      " #   Column         Non-Null Count  Dtype \n",
      "---  ------         --------------  ----- \n",
      " 0   DATE_OCCURED   72123 non-null  object\n",
      " 1   CRIME_TYPE     72123 non-null  object\n",
      " 2   UOR_DESC       72123 non-null  object\n",
      " 3   LMPD_DIVISION  72123 non-null  object\n",
      " 4   PREMISE_TYPE   72114 non-null  object\n",
      " 5   ZIP_CODE       72123 non-null  object\n",
      "dtypes: object(6)\n",
      "memory usage: 3.3+ MB\n"
     ]
    }
   ],
   "source": [
    "ndf.info()"
   ]
  },
  {
   "cell_type": "code",
   "execution_count": 17,
   "metadata": {},
   "outputs": [],
   "source": [
    "# Attempt to get rid of decimals from zip code column\n",
    "# ndf['ZIP_CODE'] = ndf['ZIP_CODE'].str.replace(\".0\", \"\")"
   ]
  },
  {
   "cell_type": "code",
   "execution_count": 18,
   "metadata": {},
   "outputs": [],
   "source": [
    "# DROP NON-2021 DATES\n",
    "clean_years_df = ndf.drop(ndf[ndf.DATE_OCCURED < '2021-'].index)"
   ]
  },
  {
   "cell_type": "code",
   "execution_count": 19,
   "metadata": {},
   "outputs": [
    {
     "name": "stdout",
     "output_type": "stream",
     "text": [
      "<class 'pandas.core.frame.DataFrame'>\n",
      "Int64Index: 70685 entries, 2 to 72122\n",
      "Data columns (total 6 columns):\n",
      " #   Column         Non-Null Count  Dtype \n",
      "---  ------         --------------  ----- \n",
      " 0   DATE_OCCURED   70685 non-null  object\n",
      " 1   CRIME_TYPE     70685 non-null  object\n",
      " 2   UOR_DESC       70685 non-null  object\n",
      " 3   LMPD_DIVISION  70685 non-null  object\n",
      " 4   PREMISE_TYPE   70676 non-null  object\n",
      " 5   ZIP_CODE       70685 non-null  object\n",
      "dtypes: object(6)\n",
      "memory usage: 3.8+ MB\n"
     ]
    }
   ],
   "source": [
    "clean_years_df.info()"
   ]
  },
  {
   "cell_type": "code",
   "execution_count": 20,
   "metadata": {},
   "outputs": [
    {
     "data": {
      "text/html": [
       "<div>\n",
       "<style scoped>\n",
       "    .dataframe tbody tr th:only-of-type {\n",
       "        vertical-align: middle;\n",
       "    }\n",
       "\n",
       "    .dataframe tbody tr th {\n",
       "        vertical-align: top;\n",
       "    }\n",
       "\n",
       "    .dataframe thead th {\n",
       "        text-align: right;\n",
       "    }\n",
       "</style>\n",
       "<table border=\"1\" class=\"dataframe\">\n",
       "  <thead>\n",
       "    <tr style=\"text-align: right;\">\n",
       "      <th></th>\n",
       "      <th>DATE_OCCURED</th>\n",
       "      <th>CRIME_TYPE</th>\n",
       "      <th>UOR_DESC</th>\n",
       "      <th>LMPD_DIVISION</th>\n",
       "      <th>PREMISE_TYPE</th>\n",
       "      <th>ZIP_CODE</th>\n",
       "    </tr>\n",
       "  </thead>\n",
       "  <tbody>\n",
       "    <tr>\n",
       "      <th>551</th>\n",
       "      <td>2021/01/03 14:43:00</td>\n",
       "      <td>ARSON</td>\n",
       "      <td>ARSON - 1ST DEGREE</td>\n",
       "      <td>8TH DIVISION</td>\n",
       "      <td>HIGHWAY / ROAD / ALLEY</td>\n",
       "      <td>0</td>\n",
       "    </tr>\n",
       "    <tr>\n",
       "      <th>554</th>\n",
       "      <td>2021/01/03 14:43:00</td>\n",
       "      <td>OTHER</td>\n",
       "      <td>RECOVERY OF STOLEN VEHICLE-OUT OF JURISDICTION</td>\n",
       "      <td>8TH DIVISION</td>\n",
       "      <td>HIGHWAY / ROAD / ALLEY</td>\n",
       "      <td>0</td>\n",
       "    </tr>\n",
       "    <tr>\n",
       "      <th>6069</th>\n",
       "      <td>2021/01/10 16:11:00</td>\n",
       "      <td>FRAUD</td>\n",
       "      <td>CRIMINAL POSSESSION OF FORGED INSTRUMENT-3RD D...</td>\n",
       "      <td>7TH DIVISION</td>\n",
       "      <td>HIGHWAY / ROAD / ALLEY</td>\n",
       "      <td>0</td>\n",
       "    </tr>\n",
       "    <tr>\n",
       "      <th>6122</th>\n",
       "      <td>2021/01/10 22:17:00</td>\n",
       "      <td>DRUGS/ALCOHOL VIOLATIONS</td>\n",
       "      <td>DRUG PARAPHERNALIA - BUY/POSSESS</td>\n",
       "      <td>5TH DIVISION</td>\n",
       "      <td>HIGHWAY / ROAD / ALLEY</td>\n",
       "      <td>0</td>\n",
       "    </tr>\n",
       "    <tr>\n",
       "      <th>2762</th>\n",
       "      <td>2021/01/13 02:23:00</td>\n",
       "      <td>DRUGS/ALCOHOL VIOLATIONS</td>\n",
       "      <td>DRUG PARAPHERNALIA - BUY/POSSESS</td>\n",
       "      <td>1ST DIVISION</td>\n",
       "      <td>HIGHWAY / ROAD / ALLEY</td>\n",
       "      <td>0</td>\n",
       "    </tr>\n",
       "    <tr>\n",
       "      <th>...</th>\n",
       "      <td>...</td>\n",
       "      <td>...</td>\n",
       "      <td>...</td>\n",
       "      <td>...</td>\n",
       "      <td>...</td>\n",
       "      <td>...</td>\n",
       "    </tr>\n",
       "    <tr>\n",
       "      <th>71867</th>\n",
       "      <td>2021/12/31 10:20:00</td>\n",
       "      <td>VEHICLE BREAK-IN/THEFT</td>\n",
       "      <td>TBUT OR DISP CONTENTS FROM VEH $500 &lt; $1,000</td>\n",
       "      <td>8TH DIVISION</td>\n",
       "      <td>PARKING LOT / GARAGE</td>\n",
       "      <td>40299</td>\n",
       "    </tr>\n",
       "    <tr>\n",
       "      <th>19281</th>\n",
       "      <td>2021/04/10 09:30:00</td>\n",
       "      <td>OTHER</td>\n",
       "      <td>MISSING PERSONS</td>\n",
       "      <td>2ND DIVISION</td>\n",
       "      <td>RESIDENCE / HOME</td>\n",
       "      <td>40402</td>\n",
       "    </tr>\n",
       "    <tr>\n",
       "      <th>51396</th>\n",
       "      <td>2021/09/15 20:45:00</td>\n",
       "      <td>OTHER</td>\n",
       "      <td>MISSING PERSONS</td>\n",
       "      <td>8TH DIVISION</td>\n",
       "      <td>HOTEL / MOTEL / ETC.</td>\n",
       "      <td>40403</td>\n",
       "    </tr>\n",
       "    <tr>\n",
       "      <th>15321</th>\n",
       "      <td>2021/03/22 11:00:00</td>\n",
       "      <td>FRAUD</td>\n",
       "      <td>THEFT OF IDENTITY OF ANOTHER WITHOUT CONSENT</td>\n",
       "      <td>METRO LOUISVILLE</td>\n",
       "      <td>RESIDENCE / HOME</td>\n",
       "      <td>47129</td>\n",
       "    </tr>\n",
       "    <tr>\n",
       "      <th>28848</th>\n",
       "      <td>2021/05/26 00:00:00</td>\n",
       "      <td>OTHER</td>\n",
       "      <td>MISSING PERSONS</td>\n",
       "      <td>1ST DIVISION</td>\n",
       "      <td>RESIDENCE / HOME</td>\n",
       "      <td>47170</td>\n",
       "    </tr>\n",
       "  </tbody>\n",
       "</table>\n",
       "<p>70685 rows × 6 columns</p>\n",
       "</div>"
      ],
      "text/plain": [
       "              DATE_OCCURED                CRIME_TYPE  \\\n",
       "551    2021/01/03 14:43:00                     ARSON   \n",
       "554    2021/01/03 14:43:00                     OTHER   \n",
       "6069   2021/01/10 16:11:00                     FRAUD   \n",
       "6122   2021/01/10 22:17:00  DRUGS/ALCOHOL VIOLATIONS   \n",
       "2762   2021/01/13 02:23:00  DRUGS/ALCOHOL VIOLATIONS   \n",
       "...                    ...                       ...   \n",
       "71867  2021/12/31 10:20:00    VEHICLE BREAK-IN/THEFT   \n",
       "19281  2021/04/10 09:30:00                     OTHER   \n",
       "51396  2021/09/15 20:45:00                     OTHER   \n",
       "15321  2021/03/22 11:00:00                     FRAUD   \n",
       "28848  2021/05/26 00:00:00                     OTHER   \n",
       "\n",
       "                                                UOR_DESC     LMPD_DIVISION  \\\n",
       "551                                   ARSON - 1ST DEGREE      8TH DIVISION   \n",
       "554       RECOVERY OF STOLEN VEHICLE-OUT OF JURISDICTION      8TH DIVISION   \n",
       "6069   CRIMINAL POSSESSION OF FORGED INSTRUMENT-3RD D...      7TH DIVISION   \n",
       "6122                    DRUG PARAPHERNALIA - BUY/POSSESS      5TH DIVISION   \n",
       "2762                    DRUG PARAPHERNALIA - BUY/POSSESS      1ST DIVISION   \n",
       "...                                                  ...               ...   \n",
       "71867       TBUT OR DISP CONTENTS FROM VEH $500 < $1,000      8TH DIVISION   \n",
       "19281                                    MISSING PERSONS      2ND DIVISION   \n",
       "51396                                    MISSING PERSONS      8TH DIVISION   \n",
       "15321       THEFT OF IDENTITY OF ANOTHER WITHOUT CONSENT  METRO LOUISVILLE   \n",
       "28848                                    MISSING PERSONS      1ST DIVISION   \n",
       "\n",
       "                                        PREMISE_TYPE ZIP_CODE  \n",
       "551    HIGHWAY / ROAD / ALLEY                               0  \n",
       "554    HIGHWAY / ROAD / ALLEY                               0  \n",
       "6069   HIGHWAY / ROAD / ALLEY                               0  \n",
       "6122   HIGHWAY / ROAD / ALLEY                               0  \n",
       "2762   HIGHWAY / ROAD / ALLEY                               0  \n",
       "...                                              ...      ...  \n",
       "71867  PARKING LOT / GARAGE                             40299  \n",
       "19281  RESIDENCE / HOME                                 40402  \n",
       "51396  HOTEL / MOTEL / ETC.                             40403  \n",
       "15321  RESIDENCE / HOME                                 47129  \n",
       "28848  RESIDENCE / HOME                                 47170  \n",
       "\n",
       "[70685 rows x 6 columns]"
      ]
     },
     "execution_count": 20,
     "metadata": {},
     "output_type": "execute_result"
    }
   ],
   "source": [
    "#Sort by time to get chronological order.\n",
    "#Sort by zip code to to determine zero values.\n",
    "clean_years_df.sort_values(['ZIP_CODE','DATE_OCCURED'], inplace= True)\n",
    "clean_years_df"
   ]
  },
  {
   "attachments": {},
   "cell_type": "markdown",
   "metadata": {},
   "source": [
    "I need to figure out how to group occurrences by month for easier visualizations in the future. Perhaps creating a function would help?\n",
    "\n",
    "for month in months:\n",
    "    "
   ]
  },
  {
   "attachments": {},
   "cell_type": "markdown",
   "metadata": {},
   "source": [
    "Let's do some more conversions. The time-related columns should obviously be listed per the data type they are conveying. By using pandas built in tools, I can convert those columns to datetime64 Dtypes. As above, I'm calling the info and head functions to check my work."
   ]
  },
  {
   "cell_type": "code",
   "execution_count": 21,
   "metadata": {},
   "outputs": [
    {
     "name": "stdout",
     "output_type": "stream",
     "text": [
      "<class 'pandas.core.frame.DataFrame'>\n",
      "RangeIndex: 72123 entries, 0 to 72122\n",
      "Data columns (total 6 columns):\n",
      " #   Column         Non-Null Count  Dtype         \n",
      "---  ------         --------------  -----         \n",
      " 0   DATE_OCCURED   72123 non-null  datetime64[ns]\n",
      " 1   CRIME_TYPE     72123 non-null  object        \n",
      " 2   UOR_DESC       72123 non-null  object        \n",
      " 3   LMPD_DIVISION  72123 non-null  object        \n",
      " 4   PREMISE_TYPE   72114 non-null  object        \n",
      " 5   ZIP_CODE       72123 non-null  object        \n",
      "dtypes: datetime64[ns](1), object(5)\n",
      "memory usage: 3.3+ MB\n"
     ]
    },
    {
     "data": {
      "text/html": [
       "<div>\n",
       "<style scoped>\n",
       "    .dataframe tbody tr th:only-of-type {\n",
       "        vertical-align: middle;\n",
       "    }\n",
       "\n",
       "    .dataframe tbody tr th {\n",
       "        vertical-align: top;\n",
       "    }\n",
       "\n",
       "    .dataframe thead th {\n",
       "        text-align: right;\n",
       "    }\n",
       "</style>\n",
       "<table border=\"1\" class=\"dataframe\">\n",
       "  <thead>\n",
       "    <tr style=\"text-align: right;\">\n",
       "      <th></th>\n",
       "      <th>DATE_OCCURED</th>\n",
       "      <th>CRIME_TYPE</th>\n",
       "      <th>UOR_DESC</th>\n",
       "      <th>LMPD_DIVISION</th>\n",
       "      <th>PREMISE_TYPE</th>\n",
       "      <th>ZIP_CODE</th>\n",
       "    </tr>\n",
       "  </thead>\n",
       "  <tbody>\n",
       "    <tr>\n",
       "      <th>0</th>\n",
       "      <td>2020-12-31 20:00:00</td>\n",
       "      <td>VANDALISM</td>\n",
       "      <td>CRIMINAL MISCHIEF - 1ST DEGREE</td>\n",
       "      <td>6TH DIVISION</td>\n",
       "      <td>RESIDENCE / HOME</td>\n",
       "      <td>40218</td>\n",
       "    </tr>\n",
       "    <tr>\n",
       "      <th>1</th>\n",
       "      <td>2020-12-31 20:00:00</td>\n",
       "      <td>BURGLARY</td>\n",
       "      <td>BURGLARY - 2ND DEGREE</td>\n",
       "      <td>6TH DIVISION</td>\n",
       "      <td>RESIDENCE / HOME</td>\n",
       "      <td>40218</td>\n",
       "    </tr>\n",
       "    <tr>\n",
       "      <th>2</th>\n",
       "      <td>2021-01-01 00:03:00</td>\n",
       "      <td>ASSAULT</td>\n",
       "      <td>ASSAULT - 1ST DEGREE</td>\n",
       "      <td>1ST DIVISION</td>\n",
       "      <td>HIGHWAY / ROAD / ALLEY</td>\n",
       "      <td>40203</td>\n",
       "    </tr>\n",
       "    <tr>\n",
       "      <th>3</th>\n",
       "      <td>2021-01-01 00:13:00</td>\n",
       "      <td>ASSAULT</td>\n",
       "      <td>WANTON ENDANGERMENT-1ST DEGREE</td>\n",
       "      <td>3RD DIVISION</td>\n",
       "      <td>RESIDENCE / HOME</td>\n",
       "      <td>40214</td>\n",
       "    </tr>\n",
       "    <tr>\n",
       "      <th>4</th>\n",
       "      <td>2020-12-31 23:03:00</td>\n",
       "      <td>VANDALISM</td>\n",
       "      <td>CRIMINAL MISCHIEF - 1ST DEGREE</td>\n",
       "      <td>4TH DIVISION</td>\n",
       "      <td>DEPARTMENT / DISCOUNT STORE</td>\n",
       "      <td>40215</td>\n",
       "    </tr>\n",
       "  </tbody>\n",
       "</table>\n",
       "</div>"
      ],
      "text/plain": [
       "         DATE_OCCURED CRIME_TYPE                        UOR_DESC  \\\n",
       "0 2020-12-31 20:00:00  VANDALISM  CRIMINAL MISCHIEF - 1ST DEGREE   \n",
       "1 2020-12-31 20:00:00   BURGLARY           BURGLARY - 2ND DEGREE   \n",
       "2 2021-01-01 00:03:00    ASSAULT            ASSAULT - 1ST DEGREE   \n",
       "3 2021-01-01 00:13:00    ASSAULT  WANTON ENDANGERMENT-1ST DEGREE   \n",
       "4 2020-12-31 23:03:00  VANDALISM  CRIMINAL MISCHIEF - 1ST DEGREE   \n",
       "\n",
       "  LMPD_DIVISION                                   PREMISE_TYPE ZIP_CODE  \n",
       "0  6TH DIVISION  RESIDENCE / HOME                                 40218  \n",
       "1  6TH DIVISION  RESIDENCE / HOME                                 40218  \n",
       "2  1ST DIVISION  HIGHWAY / ROAD / ALLEY                           40203  \n",
       "3  3RD DIVISION  RESIDENCE / HOME                                 40214  \n",
       "4  4TH DIVISION  DEPARTMENT / DISCOUNT STORE                      40215  "
      ]
     },
     "execution_count": 21,
     "metadata": {},
     "output_type": "execute_result"
    }
   ],
   "source": [
    "# ndf['DATE_REPORTED'] = pd.to_datetime(ndf['DATE_REPORTED'])\n",
    "ndf['DATE_OCCURED'] = pd.to_datetime(ndf['DATE_OCCURED'])\n",
    "ndf.info()\n",
    "ndf.head()"
   ]
  },
  {
   "cell_type": "code",
   "execution_count": null,
   "metadata": {},
   "outputs": [],
   "source": [
    "ndf['DATE_OCCURED'].drop(year= 'DATE_OCCURED')"
   ]
  },
  {
   "attachments": {},
   "cell_type": "markdown",
   "metadata": {},
   "source": [
    "Now, the data frame looks a lot better. I'm going to go ahead and save it to a new csv file."
   ]
  },
  {
   "cell_type": "code",
   "execution_count": 22,
   "metadata": {},
   "outputs": [],
   "source": [
    "# ndf.to_csv('Clean_Louisville_Metro_KY_-_Crime_Data_2021.csv')"
   ]
  },
  {
   "attachments": {},
   "cell_type": "markdown",
   "metadata": {},
   "source": [
    "Use .groupby to sort data into manageable."
   ]
  },
  {
   "attachments": {},
   "cell_type": "markdown",
   "metadata": {},
   "source": [
    "For Loop to drop non-2021 dates?\n",
    "For Loop to group dates into months?"
   ]
  },
  {
   "cell_type": "code",
   "execution_count": 23,
   "metadata": {},
   "outputs": [],
   "source": [
    "# dates = ndf['DATE_OCCURED']\n",
    "# for date in dates:\n",
    "\n"
   ]
  },
  {
   "cell_type": "code",
   "execution_count": 24,
   "metadata": {},
   "outputs": [],
   "source": [
    "# ndf.groupby(['DATE_OCCURED'].dt.month).sum()\n",
    "# dg = ndf.groupby(pd.Grouper(key='DATE_OCCURED', freq='1M')).sum()"
   ]
  },
  {
   "cell_type": "code",
   "execution_count": 25,
   "metadata": {},
   "outputs": [],
   "source": [
    "# dg"
   ]
  },
  {
   "cell_type": "code",
   "execution_count": 26,
   "metadata": {},
   "outputs": [
    {
     "data": {
      "text/html": [
       "<div>\n",
       "<style scoped>\n",
       "    .dataframe tbody tr th:only-of-type {\n",
       "        vertical-align: middle;\n",
       "    }\n",
       "\n",
       "    .dataframe tbody tr th {\n",
       "        vertical-align: top;\n",
       "    }\n",
       "\n",
       "    .dataframe thead th {\n",
       "        text-align: right;\n",
       "    }\n",
       "</style>\n",
       "<table border=\"1\" class=\"dataframe\">\n",
       "  <thead>\n",
       "    <tr style=\"text-align: right;\">\n",
       "      <th></th>\n",
       "      <th>CRIME_TYPE</th>\n",
       "    </tr>\n",
       "    <tr>\n",
       "      <th>DATE_OCCURED</th>\n",
       "      <th></th>\n",
       "    </tr>\n",
       "  </thead>\n",
       "  <tbody>\n",
       "    <tr>\n",
       "      <th>1963-01-01 00:01:00</th>\n",
       "      <td>1</td>\n",
       "    </tr>\n",
       "    <tr>\n",
       "      <th>1975-12-23 04:00:00</th>\n",
       "      <td>1</td>\n",
       "    </tr>\n",
       "    <tr>\n",
       "      <th>1987-01-01 22:14:00</th>\n",
       "      <td>1</td>\n",
       "    </tr>\n",
       "    <tr>\n",
       "      <th>1996-01-01 12:00:00</th>\n",
       "      <td>1</td>\n",
       "    </tr>\n",
       "    <tr>\n",
       "      <th>1997-01-01 00:00:00</th>\n",
       "      <td>1</td>\n",
       "    </tr>\n",
       "    <tr>\n",
       "      <th>...</th>\n",
       "      <td>...</td>\n",
       "    </tr>\n",
       "    <tr>\n",
       "      <th>2021-12-31 23:04:00</th>\n",
       "      <td>2</td>\n",
       "    </tr>\n",
       "    <tr>\n",
       "      <th>2021-12-31 23:05:00</th>\n",
       "      <td>1</td>\n",
       "    </tr>\n",
       "    <tr>\n",
       "      <th>2021-12-31 23:08:00</th>\n",
       "      <td>1</td>\n",
       "    </tr>\n",
       "    <tr>\n",
       "      <th>2021-12-31 23:11:00</th>\n",
       "      <td>3</td>\n",
       "    </tr>\n",
       "    <tr>\n",
       "      <th>2021-12-31 23:30:00</th>\n",
       "      <td>1</td>\n",
       "    </tr>\n",
       "  </tbody>\n",
       "</table>\n",
       "<p>41003 rows × 1 columns</p>\n",
       "</div>"
      ],
      "text/plain": [
       "                     CRIME_TYPE\n",
       "DATE_OCCURED                   \n",
       "1963-01-01 00:01:00           1\n",
       "1975-12-23 04:00:00           1\n",
       "1987-01-01 22:14:00           1\n",
       "1996-01-01 12:00:00           1\n",
       "1997-01-01 00:00:00           1\n",
       "...                         ...\n",
       "2021-12-31 23:04:00           2\n",
       "2021-12-31 23:05:00           1\n",
       "2021-12-31 23:08:00           1\n",
       "2021-12-31 23:11:00           3\n",
       "2021-12-31 23:30:00           1\n",
       "\n",
       "[41003 rows x 1 columns]"
      ]
     },
     "execution_count": 26,
     "metadata": {},
     "output_type": "execute_result"
    }
   ],
   "source": [
    "ndf.groupby(['DATE_OCCURED'])[['CRIME_TYPE']].count()"
   ]
  },
  {
   "cell_type": "code",
   "execution_count": 27,
   "metadata": {},
   "outputs": [
    {
     "data": {
      "text/html": [
       "<div>\n",
       "<style scoped>\n",
       "    .dataframe tbody tr th:only-of-type {\n",
       "        vertical-align: middle;\n",
       "    }\n",
       "\n",
       "    .dataframe tbody tr th {\n",
       "        vertical-align: top;\n",
       "    }\n",
       "\n",
       "    .dataframe thead th {\n",
       "        text-align: right;\n",
       "    }\n",
       "</style>\n",
       "<table border=\"1\" class=\"dataframe\">\n",
       "  <thead>\n",
       "    <tr style=\"text-align: right;\">\n",
       "      <th></th>\n",
       "      <th>DATE_OCCURED</th>\n",
       "      <th>CRIME_TYPE</th>\n",
       "      <th>UOR_DESC</th>\n",
       "      <th>LMPD_DIVISION</th>\n",
       "      <th>PREMISE_TYPE</th>\n",
       "      <th>ZIP_CODE</th>\n",
       "    </tr>\n",
       "  </thead>\n",
       "  <tbody>\n",
       "    <tr>\n",
       "      <th>0</th>\n",
       "      <td>2020-12-31 20:00:00</td>\n",
       "      <td>VANDALISM</td>\n",
       "      <td>CRIMINAL MISCHIEF - 1ST DEGREE</td>\n",
       "      <td>6TH DIVISION</td>\n",
       "      <td>RESIDENCE / HOME</td>\n",
       "      <td>40218</td>\n",
       "    </tr>\n",
       "    <tr>\n",
       "      <th>1</th>\n",
       "      <td>2020-12-31 20:00:00</td>\n",
       "      <td>BURGLARY</td>\n",
       "      <td>BURGLARY - 2ND DEGREE</td>\n",
       "      <td>6TH DIVISION</td>\n",
       "      <td>RESIDENCE / HOME</td>\n",
       "      <td>40218</td>\n",
       "    </tr>\n",
       "    <tr>\n",
       "      <th>2</th>\n",
       "      <td>2021-01-01 00:03:00</td>\n",
       "      <td>ASSAULT</td>\n",
       "      <td>ASSAULT - 1ST DEGREE</td>\n",
       "      <td>1ST DIVISION</td>\n",
       "      <td>HIGHWAY / ROAD / ALLEY</td>\n",
       "      <td>40203</td>\n",
       "    </tr>\n",
       "    <tr>\n",
       "      <th>3</th>\n",
       "      <td>2021-01-01 00:13:00</td>\n",
       "      <td>ASSAULT</td>\n",
       "      <td>WANTON ENDANGERMENT-1ST DEGREE</td>\n",
       "      <td>3RD DIVISION</td>\n",
       "      <td>RESIDENCE / HOME</td>\n",
       "      <td>40214</td>\n",
       "    </tr>\n",
       "    <tr>\n",
       "      <th>4</th>\n",
       "      <td>2020-12-31 23:03:00</td>\n",
       "      <td>VANDALISM</td>\n",
       "      <td>CRIMINAL MISCHIEF - 1ST DEGREE</td>\n",
       "      <td>4TH DIVISION</td>\n",
       "      <td>DEPARTMENT / DISCOUNT STORE</td>\n",
       "      <td>40215</td>\n",
       "    </tr>\n",
       "    <tr>\n",
       "      <th>...</th>\n",
       "      <td>...</td>\n",
       "      <td>...</td>\n",
       "      <td>...</td>\n",
       "      <td>...</td>\n",
       "      <td>...</td>\n",
       "      <td>...</td>\n",
       "    </tr>\n",
       "    <tr>\n",
       "      <th>72118</th>\n",
       "      <td>2021-12-07 22:35:00</td>\n",
       "      <td>ARSON</td>\n",
       "      <td>ARSON - 2ND DEGREE</td>\n",
       "      <td>6TH DIVISION</td>\n",
       "      <td>HIGHWAY / ROAD / ALLEY</td>\n",
       "      <td>40218</td>\n",
       "    </tr>\n",
       "    <tr>\n",
       "      <th>72119</th>\n",
       "      <td>2021-11-25 02:36:00</td>\n",
       "      <td>ASSAULT</td>\n",
       "      <td>ASSAULT - 1ST DEGREE</td>\n",
       "      <td>2ND DIVISION</td>\n",
       "      <td>RESIDENCE / HOME</td>\n",
       "      <td>40211</td>\n",
       "    </tr>\n",
       "    <tr>\n",
       "      <th>72120</th>\n",
       "      <td>2017-08-23 15:00:00</td>\n",
       "      <td>SEX CRIMES</td>\n",
       "      <td>SEXUAL ABUSE - 1ST DEGREE- VICTIM U/12 YOA</td>\n",
       "      <td>6TH DIVISION</td>\n",
       "      <td>RESIDENCE / HOME</td>\n",
       "      <td>40218</td>\n",
       "    </tr>\n",
       "    <tr>\n",
       "      <th>72121</th>\n",
       "      <td>2021-06-18 03:43:00</td>\n",
       "      <td>ASSAULT</td>\n",
       "      <td>MENACING</td>\n",
       "      <td>1ST DIVISION</td>\n",
       "      <td>JAIL / PENITENTARY</td>\n",
       "      <td>40202</td>\n",
       "    </tr>\n",
       "    <tr>\n",
       "      <th>72122</th>\n",
       "      <td>2021-06-29 06:08:00</td>\n",
       "      <td>VANDALISM</td>\n",
       "      <td>CRIMINAL MISCHIEF - 1ST DEGREE</td>\n",
       "      <td>5TH DIVISION</td>\n",
       "      <td>HIGHWAY / ROAD / ALLEY</td>\n",
       "      <td>40218</td>\n",
       "    </tr>\n",
       "  </tbody>\n",
       "</table>\n",
       "<p>72123 rows × 6 columns</p>\n",
       "</div>"
      ],
      "text/plain": [
       "             DATE_OCCURED  CRIME_TYPE  \\\n",
       "0     2020-12-31 20:00:00   VANDALISM   \n",
       "1     2020-12-31 20:00:00    BURGLARY   \n",
       "2     2021-01-01 00:03:00     ASSAULT   \n",
       "3     2021-01-01 00:13:00     ASSAULT   \n",
       "4     2020-12-31 23:03:00   VANDALISM   \n",
       "...                   ...         ...   \n",
       "72118 2021-12-07 22:35:00       ARSON   \n",
       "72119 2021-11-25 02:36:00     ASSAULT   \n",
       "72120 2017-08-23 15:00:00  SEX CRIMES   \n",
       "72121 2021-06-18 03:43:00     ASSAULT   \n",
       "72122 2021-06-29 06:08:00   VANDALISM   \n",
       "\n",
       "                                         UOR_DESC LMPD_DIVISION  \\\n",
       "0                  CRIMINAL MISCHIEF - 1ST DEGREE  6TH DIVISION   \n",
       "1                           BURGLARY - 2ND DEGREE  6TH DIVISION   \n",
       "2                            ASSAULT - 1ST DEGREE  1ST DIVISION   \n",
       "3                  WANTON ENDANGERMENT-1ST DEGREE  3RD DIVISION   \n",
       "4                  CRIMINAL MISCHIEF - 1ST DEGREE  4TH DIVISION   \n",
       "...                                           ...           ...   \n",
       "72118                          ARSON - 2ND DEGREE  6TH DIVISION   \n",
       "72119                        ASSAULT - 1ST DEGREE  2ND DIVISION   \n",
       "72120  SEXUAL ABUSE - 1ST DEGREE- VICTIM U/12 YOA  6TH DIVISION   \n",
       "72121                                    MENACING  1ST DIVISION   \n",
       "72122              CRIMINAL MISCHIEF - 1ST DEGREE  5TH DIVISION   \n",
       "\n",
       "                                        PREMISE_TYPE ZIP_CODE  \n",
       "0      RESIDENCE / HOME                                 40218  \n",
       "1      RESIDENCE / HOME                                 40218  \n",
       "2      HIGHWAY / ROAD / ALLEY                           40203  \n",
       "3      RESIDENCE / HOME                                 40214  \n",
       "4      DEPARTMENT / DISCOUNT STORE                      40215  \n",
       "...                                              ...      ...  \n",
       "72118  HIGHWAY / ROAD / ALLEY                           40218  \n",
       "72119  RESIDENCE / HOME                                 40211  \n",
       "72120  RESIDENCE / HOME                                 40218  \n",
       "72121  JAIL / PENITENTARY                               40202  \n",
       "72122  HIGHWAY / ROAD / ALLEY                           40218  \n",
       "\n",
       "[72123 rows x 6 columns]"
      ]
     },
     "execution_count": 27,
     "metadata": {},
     "output_type": "execute_result"
    }
   ],
   "source": [
    "ndf"
   ]
  },
  {
   "cell_type": "code",
   "execution_count": null,
   "metadata": {},
   "outputs": [],
   "source": []
  },
  {
   "cell_type": "code",
   "execution_count": 39,
   "metadata": {},
   "outputs": [
    {
     "name": "stderr",
     "output_type": "stream",
     "text": [
      "/var/folders/nt/33j272z93nq7qmv7sqkq4x8m0000gn/T/ipykernel_36984/3467578866.py:2: FutureWarning: Dropping invalid columns in DataFrameGroupBy.add is deprecated. In a future version, a TypeError will be raised. Before calling .add, select only columns which should be valid for the function.\n",
      "  ndf.groupby([ndf.DATE_OCCURED.dt.to_period('M'), 'CRIME_TYPE']).sum().reset_index()\n"
     ]
    },
    {
     "data": {
      "text/html": [
       "<div>\n",
       "<style scoped>\n",
       "    .dataframe tbody tr th:only-of-type {\n",
       "        vertical-align: middle;\n",
       "    }\n",
       "\n",
       "    .dataframe tbody tr th {\n",
       "        vertical-align: top;\n",
       "    }\n",
       "\n",
       "    .dataframe thead th {\n",
       "        text-align: right;\n",
       "    }\n",
       "</style>\n",
       "<table border=\"1\" class=\"dataframe\">\n",
       "  <thead>\n",
       "    <tr style=\"text-align: right;\">\n",
       "      <th></th>\n",
       "      <th>DATE_OCCURED</th>\n",
       "      <th>CRIME_TYPE</th>\n",
       "      <th>UOR_DESC</th>\n",
       "      <th>LMPD_DIVISION</th>\n",
       "      <th>PREMISE_TYPE</th>\n",
       "      <th>ZIP_CODE</th>\n",
       "    </tr>\n",
       "  </thead>\n",
       "  <tbody>\n",
       "    <tr>\n",
       "      <th>0</th>\n",
       "      <td>1963-01</td>\n",
       "      <td>OTHER</td>\n",
       "      <td>MISSING PERSONS</td>\n",
       "      <td>METRO LOUISVILLE</td>\n",
       "      <td>RESIDENCE / HOME</td>\n",
       "      <td>40056</td>\n",
       "    </tr>\n",
       "    <tr>\n",
       "      <th>1</th>\n",
       "      <td>1975-12</td>\n",
       "      <td>BURGLARY</td>\n",
       "      <td>BURGLARY - 2ND DEGREE</td>\n",
       "      <td>1ST DIVISION</td>\n",
       "      <td>OTHER RESIDENCE (APARTMENT/CONDO)</td>\n",
       "      <td>40212</td>\n",
       "    </tr>\n",
       "    <tr>\n",
       "      <th>2</th>\n",
       "      <td>1987-01</td>\n",
       "      <td>SEX CRIMES</td>\n",
       "      <td>SODOMY - 1ST DEGREE</td>\n",
       "      <td>7TH DIVISION</td>\n",
       "      <td>RESIDENCE / HOME</td>\n",
       "      <td>40023</td>\n",
       "    </tr>\n",
       "    <tr>\n",
       "      <th>3</th>\n",
       "      <td>1996-01</td>\n",
       "      <td>FRAUD</td>\n",
       "      <td>THEFT OF IDENTITY OF ANOTHER WITHOUT CONSENT</td>\n",
       "      <td>4TH DIVISION</td>\n",
       "      <td>CYBERSPACE</td>\n",
       "      <td>40203</td>\n",
       "    </tr>\n",
       "    <tr>\n",
       "      <th>4</th>\n",
       "      <td>1997-01</td>\n",
       "      <td>SEX CRIMES</td>\n",
       "      <td>SEXUAL ABUSE - 1ST DEGREE- VICTIM U/12 YOA</td>\n",
       "      <td>3RD DIVISION</td>\n",
       "      <td>RESIDENCE / HOME</td>\n",
       "      <td>40272</td>\n",
       "    </tr>\n",
       "    <tr>\n",
       "      <th>...</th>\n",
       "      <td>...</td>\n",
       "      <td>...</td>\n",
       "      <td>...</td>\n",
       "      <td>...</td>\n",
       "      <td>...</td>\n",
       "      <td>...</td>\n",
       "    </tr>\n",
       "    <tr>\n",
       "      <th>473</th>\n",
       "      <td>2021-12</td>\n",
       "      <td>SEX CRIMES</td>\n",
       "      <td>SEXUAL ABUSE - 3RD DEGREEVOYEURISMRAPE - 1ST D...</td>\n",
       "      <td>1ST DIVISION4TH DIVISION4TH DIVISION4TH DIVISI...</td>\n",
       "      <td>DRUG STORE/DR`S OFFICE/HOSPITAL              R...</td>\n",
       "      <td>4020240208402044021540214402124020340203402024...</td>\n",
       "    </tr>\n",
       "    <tr>\n",
       "      <th>474</th>\n",
       "      <td>2021-12</td>\n",
       "      <td>THEFT/LARCENY</td>\n",
       "      <td>TBUT OR DISP FROM BUILDING $1,000 &lt; $10,000TBU...</td>\n",
       "      <td>4TH DIVISION3RD DIVISION3RD DIVISION2ND DIVISI...</td>\n",
       "      <td>HOTEL / MOTEL / ETC.                         B...</td>\n",
       "      <td>4020940216402144021140203402024021140214402154...</td>\n",
       "    </tr>\n",
       "    <tr>\n",
       "      <th>475</th>\n",
       "      <td>2021-12</td>\n",
       "      <td>VANDALISM</td>\n",
       "      <td>CRIMINAL MISCHIEF-3RD DEGREECRIMINAL MISCHIEF-...</td>\n",
       "      <td>1ST DIVISION4TH DIVISION3RD DIVISION1ST DIVISI...</td>\n",
       "      <td>RESIDENCE / HOME                             H...</td>\n",
       "      <td>4020240209402164020240215402194021340216402914...</td>\n",
       "    </tr>\n",
       "    <tr>\n",
       "      <th>476</th>\n",
       "      <td>2021-12</td>\n",
       "      <td>VEHICLE BREAK-IN/THEFT</td>\n",
       "      <td>TBUT OR DISP CONTENTS FROM VEH $500 &lt; $1,000TB...</td>\n",
       "      <td>1ST DIVISION7TH DIVISION1ST DIVISION3RD DIVISI...</td>\n",
       "      <td>PARKING LOT / GARAGE                         P...</td>\n",
       "      <td>4020240219402034025840206402154021940272402724...</td>\n",
       "    </tr>\n",
       "    <tr>\n",
       "      <th>477</th>\n",
       "      <td>2021-12</td>\n",
       "      <td>WEAPONS</td>\n",
       "      <td>POSS HANDGUN BY MINOR 1ST OFFENSEPOSS HANDGUN ...</td>\n",
       "      <td>2ND DIVISION1ST DIVISION2ND DIVISION1ST DIVISI...</td>\n",
       "      <td>OTHER / UNKNOWN                              O...</td>\n",
       "      <td>4021640203402114020240210402164021140213402584...</td>\n",
       "    </tr>\n",
       "  </tbody>\n",
       "</table>\n",
       "<p>478 rows × 6 columns</p>\n",
       "</div>"
      ],
      "text/plain": [
       "    DATE_OCCURED              CRIME_TYPE  \\\n",
       "0        1963-01                   OTHER   \n",
       "1        1975-12                BURGLARY   \n",
       "2        1987-01              SEX CRIMES   \n",
       "3        1996-01                   FRAUD   \n",
       "4        1997-01              SEX CRIMES   \n",
       "..           ...                     ...   \n",
       "473      2021-12              SEX CRIMES   \n",
       "474      2021-12           THEFT/LARCENY   \n",
       "475      2021-12               VANDALISM   \n",
       "476      2021-12  VEHICLE BREAK-IN/THEFT   \n",
       "477      2021-12                 WEAPONS   \n",
       "\n",
       "                                              UOR_DESC  \\\n",
       "0                                      MISSING PERSONS   \n",
       "1                                BURGLARY - 2ND DEGREE   \n",
       "2                                  SODOMY - 1ST DEGREE   \n",
       "3         THEFT OF IDENTITY OF ANOTHER WITHOUT CONSENT   \n",
       "4           SEXUAL ABUSE - 1ST DEGREE- VICTIM U/12 YOA   \n",
       "..                                                 ...   \n",
       "473  SEXUAL ABUSE - 3RD DEGREEVOYEURISMRAPE - 1ST D...   \n",
       "474  TBUT OR DISP FROM BUILDING $1,000 < $10,000TBU...   \n",
       "475  CRIMINAL MISCHIEF-3RD DEGREECRIMINAL MISCHIEF-...   \n",
       "476  TBUT OR DISP CONTENTS FROM VEH $500 < $1,000TB...   \n",
       "477  POSS HANDGUN BY MINOR 1ST OFFENSEPOSS HANDGUN ...   \n",
       "\n",
       "                                         LMPD_DIVISION  \\\n",
       "0                                     METRO LOUISVILLE   \n",
       "1                                         1ST DIVISION   \n",
       "2                                         7TH DIVISION   \n",
       "3                                         4TH DIVISION   \n",
       "4                                         3RD DIVISION   \n",
       "..                                                 ...   \n",
       "473  1ST DIVISION4TH DIVISION4TH DIVISION4TH DIVISI...   \n",
       "474  4TH DIVISION3RD DIVISION3RD DIVISION2ND DIVISI...   \n",
       "475  1ST DIVISION4TH DIVISION3RD DIVISION1ST DIVISI...   \n",
       "476  1ST DIVISION7TH DIVISION1ST DIVISION3RD DIVISI...   \n",
       "477  2ND DIVISION1ST DIVISION2ND DIVISION1ST DIVISI...   \n",
       "\n",
       "                                          PREMISE_TYPE  \\\n",
       "0        RESIDENCE / HOME                                \n",
       "1        OTHER RESIDENCE (APARTMENT/CONDO)               \n",
       "2        RESIDENCE / HOME                                \n",
       "3        CYBERSPACE                                      \n",
       "4        RESIDENCE / HOME                                \n",
       "..                                                 ...   \n",
       "473  DRUG STORE/DR`S OFFICE/HOSPITAL              R...   \n",
       "474  HOTEL / MOTEL / ETC.                         B...   \n",
       "475  RESIDENCE / HOME                             H...   \n",
       "476  PARKING LOT / GARAGE                         P...   \n",
       "477  OTHER / UNKNOWN                              O...   \n",
       "\n",
       "                                              ZIP_CODE  \n",
       "0                                                40056  \n",
       "1                                                40212  \n",
       "2                                                40023  \n",
       "3                                                40203  \n",
       "4                                                40272  \n",
       "..                                                 ...  \n",
       "473  4020240208402044021540214402124020340203402024...  \n",
       "474  4020940216402144021140203402024021140214402154...  \n",
       "475  4020240209402164020240215402194021340216402914...  \n",
       "476  4020240219402034025840206402154021940272402724...  \n",
       "477  4021640203402114020240210402164021140213402584...  \n",
       "\n",
       "[478 rows x 6 columns]"
      ]
     },
     "execution_count": 39,
     "metadata": {},
     "output_type": "execute_result"
    }
   ],
   "source": [
    "# ndf.groupby(ndf['DATE_OCCURED'])\n",
    "ndf.groupby([ndf.DATE_OCCURED.dt.to_period('M'), 'CRIME_TYPE']).sum().reset_index()"
   ]
  },
  {
   "cell_type": "code",
   "execution_count": 28,
   "metadata": {},
   "outputs": [
    {
     "data": {
      "text/plain": [
       "<AxesSubplot:ylabel='CRIME_TYPE,ZIP_CODE'>"
      ]
     },
     "execution_count": 28,
     "metadata": {},
     "output_type": "execute_result"
    },
    {
     "data": {
      "image/png": "[encoded data removed]",
      "text/plain": [
       "<Figure size 640x480 with 1 Axes>"
      ]
     },
     "metadata": {},
     "output_type": "display_data"
    }
   ],
   "source": [
    "ndf.groupby(['CRIME_TYPE', 'ZIP_CODE'])[['CRIME_TYPE']].count().plot.barh(rot= 45)"
   ]
  },
  {
   "cell_type": "code",
   "execution_count": 29,
   "metadata": {},
   "outputs": [
    {
     "data": {
      "text/plain": [
       "<AxesSubplot:ylabel='CRIME_TYPE'>"
      ]
     },
     "execution_count": 29,
     "metadata": {},
     "output_type": "execute_result"
    },
    {
     "data": {
      "image/png": "[encoded data removed]",
      "text/plain": [
       "<Figure size 640x480 with 1 Axes>"
      ]
     },
     "metadata": {},
     "output_type": "display_data"
    }
   ],
   "source": [
    "# crime_type_by_zip = ndf.groupby(['CRIME_TYPE', 'ZIP_CODE'])[['CRIME_TYPE']].count()\n",
    "ndf.groupby(['CRIME_TYPE'])['CRIME_TYPE'].count().plot.barh(rot= 45)\n",
    "# crime_type_by_zip"
   ]
  },
  {
   "cell_type": "code",
   "execution_count": 30,
   "metadata": {},
   "outputs": [
    {
     "data": {
      "text/plain": [
       "CRIME_TYPE\n",
       "ARSON                         180\n",
       "ASSAULT                     17069\n",
       "BURGLARY                     4274\n",
       "DISTURBING THE PEACE          337\n",
       "DRUGS/ALCOHOL VIOLATIONS     5142\n",
       "FRAUD                        4342\n",
       "HOMICIDE                      196\n",
       "MOTOR VEHICLE THEFT          4336\n",
       "OTHER                       10230\n",
       "ROBBERY                      1312\n",
       "SEX CRIMES                    545\n",
       "THEFT/LARCENY               10828\n",
       "VANDALISM                    6021\n",
       "VEHICLE BREAK-IN/THEFT       6294\n",
       "WEAPONS                      1017\n",
       "Name: CRIME_TYPE, dtype: int64"
      ]
     },
     "execution_count": 30,
     "metadata": {},
     "output_type": "execute_result"
    }
   ],
   "source": [
    "ndf.groupby(['CRIME_TYPE'])['CRIME_TYPE'].count()"
   ]
  },
  {
   "cell_type": "code",
   "execution_count": 31,
   "metadata": {},
   "outputs": [
    {
     "data": {
      "text/plain": [
       "ASSAULT                     17069\n",
       "THEFT/LARCENY               10828\n",
       "OTHER                       10230\n",
       "VEHICLE BREAK-IN/THEFT       6294\n",
       "VANDALISM                    6021\n",
       "DRUGS/ALCOHOL VIOLATIONS     5142\n",
       "FRAUD                        4342\n",
       "MOTOR VEHICLE THEFT          4336\n",
       "BURGLARY                     4274\n",
       "ROBBERY                      1312\n",
       "WEAPONS                      1017\n",
       "SEX CRIMES                    545\n",
       "DISTURBING THE PEACE          337\n",
       "HOMICIDE                      196\n",
       "ARSON                         180\n",
       "Name: CRIME_TYPE, dtype: int64"
      ]
     },
     "execution_count": 31,
     "metadata": {},
     "output_type": "execute_result"
    }
   ],
   "source": [
    "ndf.CRIME_TYPE.value_counts()"
   ]
  },
  {
   "attachments": {},
   "cell_type": "markdown",
   "metadata": {},
   "source": [
    "With our newly cleaned data, let's start deriving some initial insights from it. Let's simple and..."
   ]
  },
  {
   "cell_type": "markdown",
   "metadata": {},
   "source": []
  },
  {
   "cell_type": "code",
   "execution_count": 36,
   "metadata": {},
   "outputs": [
    {
     "name": "stderr",
     "output_type": "stream",
     "text": [
      "/Users/jeffreyfennell/opt/anaconda3/lib/python3.9/site-packages/numpy/core/shape_base.py:65: VisibleDeprecationWarning: Creating an ndarray from ragged nested sequences (which is a list-or-tuple of lists-or-tuples-or ndarrays with different lengths or shapes) is deprecated. If you meant to do this, you must specify 'dtype=object' when creating the ndarray.\n",
      "  ary = asanyarray(ary)\n"
     ]
    },
    {
     "ename": "TypeError",
     "evalue": "unhashable type: 'numpy.ndarray'",
     "output_type": "error",
     "traceback": [
      "\u001b[0;31m---------------------------------------------------------------------------\u001b[0m",
      "\u001b[0;31mTypeError\u001b[0m                                 Traceback (most recent call last)",
      "\u001b[0;32m/var/folders/nt/33j272z93nq7qmv7sqkq4x8m0000gn/T/ipykernel_36984/2831143848.py\u001b[0m in \u001b[0;36m<module>\u001b[0;34m\u001b[0m\n\u001b[1;32m      2\u001b[0m \u001b[0;31m# plt.plot(['ZIP_CODE'],[['CRIME_TYPE'].count()])\u001b[0m\u001b[0;34m\u001b[0m\u001b[0;34m\u001b[0m\u001b[0m\n\u001b[1;32m      3\u001b[0m \u001b[0mfig\u001b[0m\u001b[0;34m,\u001b[0m \u001b[0max\u001b[0m \u001b[0;34m=\u001b[0m \u001b[0mplt\u001b[0m\u001b[0;34m.\u001b[0m\u001b[0msubplots\u001b[0m\u001b[0;34m(\u001b[0m\u001b[0;34m)\u001b[0m\u001b[0;34m\u001b[0m\u001b[0;34m\u001b[0m\u001b[0m\n\u001b[0;32m----> 4\u001b[0;31m \u001b[0max\u001b[0m\u001b[0;34m.\u001b[0m\u001b[0mplot\u001b[0m\u001b[0;34m(\u001b[0m\u001b[0mndf\u001b[0m\u001b[0;34m[\u001b[0m\u001b[0;34m'ZIP_CODE'\u001b[0m\u001b[0;34m]\u001b[0m\u001b[0;34m,\u001b[0m \u001b[0mndf\u001b[0m\u001b[0;34m.\u001b[0m\u001b[0mgroupby\u001b[0m\u001b[0;34m(\u001b[0m\u001b[0;34m[\u001b[0m\u001b[0;34m'CRIME_TYPE'\u001b[0m\u001b[0;34m]\u001b[0m\u001b[0;34m)\u001b[0m\u001b[0;34m)\u001b[0m\u001b[0;34m\u001b[0m\u001b[0;34m\u001b[0m\u001b[0m\n\u001b[0m\u001b[1;32m      5\u001b[0m \u001b[0mplt\u001b[0m\u001b[0;34m.\u001b[0m\u001b[0mshow\u001b[0m\u001b[0;34m(\u001b[0m\u001b[0;34m)\u001b[0m\u001b[0;34m\u001b[0m\u001b[0;34m\u001b[0m\u001b[0m\n",
      "\u001b[0;32m~/opt/anaconda3/lib/python3.9/site-packages/matplotlib/axes/_axes.py\u001b[0m in \u001b[0;36mplot\u001b[0;34m(self, scalex, scaley, data, *args, **kwargs)\u001b[0m\n\u001b[1;32m   1630\u001b[0m         \"\"\"\n\u001b[1;32m   1631\u001b[0m         \u001b[0mkwargs\u001b[0m \u001b[0;34m=\u001b[0m \u001b[0mcbook\u001b[0m\u001b[0;34m.\u001b[0m\u001b[0mnormalize_kwargs\u001b[0m\u001b[0;34m(\u001b[0m\u001b[0mkwargs\u001b[0m\u001b[0;34m,\u001b[0m \u001b[0mmlines\u001b[0m\u001b[0;34m.\u001b[0m\u001b[0mLine2D\u001b[0m\u001b[0;34m)\u001b[0m\u001b[0;34m\u001b[0m\u001b[0;34m\u001b[0m\u001b[0m\n\u001b[0;32m-> 1632\u001b[0;31m         \u001b[0mlines\u001b[0m \u001b[0;34m=\u001b[0m \u001b[0;34m[\u001b[0m\u001b[0;34m*\u001b[0m\u001b[0mself\u001b[0m\u001b[0;34m.\u001b[0m\u001b[0m_get_lines\u001b[0m\u001b[0;34m(\u001b[0m\u001b[0;34m*\u001b[0m\u001b[0margs\u001b[0m\u001b[0;34m,\u001b[0m \u001b[0mdata\u001b[0m\u001b[0;34m=\u001b[0m\u001b[0mdata\u001b[0m\u001b[0;34m,\u001b[0m \u001b[0;34m**\u001b[0m\u001b[0mkwargs\u001b[0m\u001b[0;34m)\u001b[0m\u001b[0;34m]\u001b[0m\u001b[0;34m\u001b[0m\u001b[0;34m\u001b[0m\u001b[0m\n\u001b[0m\u001b[1;32m   1633\u001b[0m         \u001b[0;32mfor\u001b[0m \u001b[0mline\u001b[0m \u001b[0;32min\u001b[0m \u001b[0mlines\u001b[0m\u001b[0;34m:\u001b[0m\u001b[0;34m\u001b[0m\u001b[0;34m\u001b[0m\u001b[0m\n\u001b[1;32m   1634\u001b[0m             \u001b[0mself\u001b[0m\u001b[0;34m.\u001b[0m\u001b[0madd_line\u001b[0m\u001b[0;34m(\u001b[0m\u001b[0mline\u001b[0m\u001b[0;34m)\u001b[0m\u001b[0;34m\u001b[0m\u001b[0;34m\u001b[0m\u001b[0m\n",
      "\u001b[0;32m~/opt/anaconda3/lib/python3.9/site-packages/matplotlib/axes/_base.py\u001b[0m in \u001b[0;36m__call__\u001b[0;34m(self, data, *args, **kwargs)\u001b[0m\n\u001b[1;32m    310\u001b[0m                 \u001b[0mthis\u001b[0m \u001b[0;34m+=\u001b[0m \u001b[0margs\u001b[0m\u001b[0;34m[\u001b[0m\u001b[0;36m0\u001b[0m\u001b[0;34m]\u001b[0m\u001b[0;34m,\u001b[0m\u001b[0;34m\u001b[0m\u001b[0;34m\u001b[0m\u001b[0m\n\u001b[1;32m    311\u001b[0m                 \u001b[0margs\u001b[0m \u001b[0;34m=\u001b[0m \u001b[0margs\u001b[0m\u001b[0;34m[\u001b[0m\u001b[0;36m1\u001b[0m\u001b[0;34m:\u001b[0m\u001b[0;34m]\u001b[0m\u001b[0;34m\u001b[0m\u001b[0;34m\u001b[0m\u001b[0m\n\u001b[0;32m--> 312\u001b[0;31m             \u001b[0;32myield\u001b[0m \u001b[0;32mfrom\u001b[0m \u001b[0mself\u001b[0m\u001b[0;34m.\u001b[0m\u001b[0m_plot_args\u001b[0m\u001b[0;34m(\u001b[0m\u001b[0mthis\u001b[0m\u001b[0;34m,\u001b[0m \u001b[0mkwargs\u001b[0m\u001b[0;34m)\u001b[0m\u001b[0;34m\u001b[0m\u001b[0;34m\u001b[0m\u001b[0m\n\u001b[0m\u001b[1;32m    313\u001b[0m \u001b[0;34m\u001b[0m\u001b[0m\n\u001b[1;32m    314\u001b[0m     \u001b[0;32mdef\u001b[0m \u001b[0mget_next_color\u001b[0m\u001b[0;34m(\u001b[0m\u001b[0mself\u001b[0m\u001b[0;34m)\u001b[0m\u001b[0;34m:\u001b[0m\u001b[0;34m\u001b[0m\u001b[0;34m\u001b[0m\u001b[0m\n",
      "\u001b[0;32m~/opt/anaconda3/lib/python3.9/site-packages/matplotlib/axes/_base.py\u001b[0m in \u001b[0;36m_plot_args\u001b[0;34m(self, tup, kwargs, return_kwargs)\u001b[0m\n\u001b[1;32m    493\u001b[0m             \u001b[0mself\u001b[0m\u001b[0;34m.\u001b[0m\u001b[0maxes\u001b[0m\u001b[0;34m.\u001b[0m\u001b[0mxaxis\u001b[0m\u001b[0;34m.\u001b[0m\u001b[0mupdate_units\u001b[0m\u001b[0;34m(\u001b[0m\u001b[0mx\u001b[0m\u001b[0;34m)\u001b[0m\u001b[0;34m\u001b[0m\u001b[0;34m\u001b[0m\u001b[0m\n\u001b[1;32m    494\u001b[0m         \u001b[0;32mif\u001b[0m \u001b[0mself\u001b[0m\u001b[0;34m.\u001b[0m\u001b[0maxes\u001b[0m\u001b[0;34m.\u001b[0m\u001b[0myaxis\u001b[0m \u001b[0;32mis\u001b[0m \u001b[0;32mnot\u001b[0m \u001b[0;32mNone\u001b[0m\u001b[0;34m:\u001b[0m\u001b[0;34m\u001b[0m\u001b[0;34m\u001b[0m\u001b[0m\n\u001b[0;32m--> 495\u001b[0;31m             \u001b[0mself\u001b[0m\u001b[0;34m.\u001b[0m\u001b[0maxes\u001b[0m\u001b[0;34m.\u001b[0m\u001b[0myaxis\u001b[0m\u001b[0;34m.\u001b[0m\u001b[0mupdate_units\u001b[0m\u001b[0;34m(\u001b[0m\u001b[0my\u001b[0m\u001b[0;34m)\u001b[0m\u001b[0;34m\u001b[0m\u001b[0;34m\u001b[0m\u001b[0m\n\u001b[0m\u001b[1;32m    496\u001b[0m \u001b[0;34m\u001b[0m\u001b[0m\n\u001b[1;32m    497\u001b[0m         \u001b[0;32mif\u001b[0m \u001b[0mx\u001b[0m\u001b[0;34m.\u001b[0m\u001b[0mshape\u001b[0m\u001b[0;34m[\u001b[0m\u001b[0;36m0\u001b[0m\u001b[0;34m]\u001b[0m \u001b[0;34m!=\u001b[0m \u001b[0my\u001b[0m\u001b[0;34m.\u001b[0m\u001b[0mshape\u001b[0m\u001b[0;34m[\u001b[0m\u001b[0;36m0\u001b[0m\u001b[0;34m]\u001b[0m\u001b[0;34m:\u001b[0m\u001b[0;34m\u001b[0m\u001b[0;34m\u001b[0m\u001b[0m\n",
      "\u001b[0;32m~/opt/anaconda3/lib/python3.9/site-packages/matplotlib/axis.py\u001b[0m in \u001b[0;36mupdate_units\u001b[0;34m(self, data)\u001b[0m\n\u001b[1;32m   1447\u001b[0m         \u001b[0mneednew\u001b[0m \u001b[0;34m=\u001b[0m \u001b[0mself\u001b[0m\u001b[0;34m.\u001b[0m\u001b[0mconverter\u001b[0m \u001b[0;34m!=\u001b[0m \u001b[0mconverter\u001b[0m\u001b[0;34m\u001b[0m\u001b[0;34m\u001b[0m\u001b[0m\n\u001b[1;32m   1448\u001b[0m         \u001b[0mself\u001b[0m\u001b[0;34m.\u001b[0m\u001b[0mconverter\u001b[0m \u001b[0;34m=\u001b[0m \u001b[0mconverter\u001b[0m\u001b[0;34m\u001b[0m\u001b[0;34m\u001b[0m\u001b[0m\n\u001b[0;32m-> 1449\u001b[0;31m         \u001b[0mdefault\u001b[0m \u001b[0;34m=\u001b[0m \u001b[0mself\u001b[0m\u001b[0;34m.\u001b[0m\u001b[0mconverter\u001b[0m\u001b[0;34m.\u001b[0m\u001b[0mdefault_units\u001b[0m\u001b[0;34m(\u001b[0m\u001b[0mdata\u001b[0m\u001b[0;34m,\u001b[0m \u001b[0mself\u001b[0m\u001b[0;34m)\u001b[0m\u001b[0;34m\u001b[0m\u001b[0;34m\u001b[0m\u001b[0m\n\u001b[0m\u001b[1;32m   1450\u001b[0m         \u001b[0;32mif\u001b[0m \u001b[0mdefault\u001b[0m \u001b[0;32mis\u001b[0m \u001b[0;32mnot\u001b[0m \u001b[0;32mNone\u001b[0m \u001b[0;32mand\u001b[0m \u001b[0mself\u001b[0m\u001b[0;34m.\u001b[0m\u001b[0munits\u001b[0m \u001b[0;32mis\u001b[0m \u001b[0;32mNone\u001b[0m\u001b[0;34m:\u001b[0m\u001b[0;34m\u001b[0m\u001b[0;34m\u001b[0m\u001b[0m\n\u001b[1;32m   1451\u001b[0m             \u001b[0mself\u001b[0m\u001b[0;34m.\u001b[0m\u001b[0mset_units\u001b[0m\u001b[0;34m(\u001b[0m\u001b[0mdefault\u001b[0m\u001b[0;34m)\u001b[0m\u001b[0;34m\u001b[0m\u001b[0;34m\u001b[0m\u001b[0m\n",
      "\u001b[0;32m~/opt/anaconda3/lib/python3.9/site-packages/matplotlib/category.py\u001b[0m in \u001b[0;36mdefault_units\u001b[0;34m(data, axis)\u001b[0m\n\u001b[1;32m    114\u001b[0m         \u001b[0;31m# the conversion call stack is default_units -> axis_info -> convert\u001b[0m\u001b[0;34m\u001b[0m\u001b[0;34m\u001b[0m\u001b[0m\n\u001b[1;32m    115\u001b[0m         \u001b[0;32mif\u001b[0m \u001b[0maxis\u001b[0m\u001b[0;34m.\u001b[0m\u001b[0munits\u001b[0m \u001b[0;32mis\u001b[0m \u001b[0;32mNone\u001b[0m\u001b[0;34m:\u001b[0m\u001b[0;34m\u001b[0m\u001b[0;34m\u001b[0m\u001b[0m\n\u001b[0;32m--> 116\u001b[0;31m             \u001b[0maxis\u001b[0m\u001b[0;34m.\u001b[0m\u001b[0mset_units\u001b[0m\u001b[0;34m(\u001b[0m\u001b[0mUnitData\u001b[0m\u001b[0;34m(\u001b[0m\u001b[0mdata\u001b[0m\u001b[0;34m)\u001b[0m\u001b[0;34m)\u001b[0m\u001b[0;34m\u001b[0m\u001b[0;34m\u001b[0m\u001b[0m\n\u001b[0m\u001b[1;32m    117\u001b[0m         \u001b[0;32melse\u001b[0m\u001b[0;34m:\u001b[0m\u001b[0;34m\u001b[0m\u001b[0;34m\u001b[0m\u001b[0m\n\u001b[1;32m    118\u001b[0m             \u001b[0maxis\u001b[0m\u001b[0;34m.\u001b[0m\u001b[0munits\u001b[0m\u001b[0;34m.\u001b[0m\u001b[0mupdate\u001b[0m\u001b[0;34m(\u001b[0m\u001b[0mdata\u001b[0m\u001b[0;34m)\u001b[0m\u001b[0;34m\u001b[0m\u001b[0;34m\u001b[0m\u001b[0m\n",
      "\u001b[0;32m~/opt/anaconda3/lib/python3.9/site-packages/matplotlib/category.py\u001b[0m in \u001b[0;36m__init__\u001b[0;34m(self, data)\u001b[0m\n\u001b[1;32m    190\u001b[0m         \u001b[0mself\u001b[0m\u001b[0;34m.\u001b[0m\u001b[0m_counter\u001b[0m \u001b[0;34m=\u001b[0m \u001b[0mitertools\u001b[0m\u001b[0;34m.\u001b[0m\u001b[0mcount\u001b[0m\u001b[0;34m(\u001b[0m\u001b[0;34m)\u001b[0m\u001b[0;34m\u001b[0m\u001b[0;34m\u001b[0m\u001b[0m\n\u001b[1;32m    191\u001b[0m         \u001b[0;32mif\u001b[0m \u001b[0mdata\u001b[0m \u001b[0;32mis\u001b[0m \u001b[0;32mnot\u001b[0m \u001b[0;32mNone\u001b[0m\u001b[0;34m:\u001b[0m\u001b[0;34m\u001b[0m\u001b[0;34m\u001b[0m\u001b[0m\n\u001b[0;32m--> 192\u001b[0;31m             \u001b[0mself\u001b[0m\u001b[0;34m.\u001b[0m\u001b[0mupdate\u001b[0m\u001b[0;34m(\u001b[0m\u001b[0mdata\u001b[0m\u001b[0;34m)\u001b[0m\u001b[0;34m\u001b[0m\u001b[0;34m\u001b[0m\u001b[0m\n\u001b[0m\u001b[1;32m    193\u001b[0m \u001b[0;34m\u001b[0m\u001b[0m\n\u001b[1;32m    194\u001b[0m     \u001b[0;34m@\u001b[0m\u001b[0mstaticmethod\u001b[0m\u001b[0;34m\u001b[0m\u001b[0;34m\u001b[0m\u001b[0m\n",
      "\u001b[0;32m~/opt/anaconda3/lib/python3.9/site-packages/matplotlib/category.py\u001b[0m in \u001b[0;36mupdate\u001b[0;34m(self, data)\u001b[0m\n\u001b[1;32m    223\u001b[0m         \u001b[0;31m# check if convertible to number:\u001b[0m\u001b[0;34m\u001b[0m\u001b[0;34m\u001b[0m\u001b[0m\n\u001b[1;32m    224\u001b[0m         \u001b[0mconvertible\u001b[0m \u001b[0;34m=\u001b[0m \u001b[0;32mTrue\u001b[0m\u001b[0;34m\u001b[0m\u001b[0;34m\u001b[0m\u001b[0m\n\u001b[0;32m--> 225\u001b[0;31m         \u001b[0;32mfor\u001b[0m \u001b[0mval\u001b[0m \u001b[0;32min\u001b[0m \u001b[0mOrderedDict\u001b[0m\u001b[0;34m.\u001b[0m\u001b[0mfromkeys\u001b[0m\u001b[0;34m(\u001b[0m\u001b[0mdata\u001b[0m\u001b[0;34m)\u001b[0m\u001b[0;34m:\u001b[0m\u001b[0;34m\u001b[0m\u001b[0;34m\u001b[0m\u001b[0m\n\u001b[0m\u001b[1;32m    226\u001b[0m             \u001b[0;31m# OrderedDict just iterates over unique values in data.\u001b[0m\u001b[0;34m\u001b[0m\u001b[0;34m\u001b[0m\u001b[0m\n\u001b[1;32m    227\u001b[0m             \u001b[0m_api\u001b[0m\u001b[0;34m.\u001b[0m\u001b[0mcheck_isinstance\u001b[0m\u001b[0;34m(\u001b[0m\u001b[0;34m(\u001b[0m\u001b[0mstr\u001b[0m\u001b[0;34m,\u001b[0m \u001b[0mbytes\u001b[0m\u001b[0;34m)\u001b[0m\u001b[0;34m,\u001b[0m \u001b[0mvalue\u001b[0m\u001b[0;34m=\u001b[0m\u001b[0mval\u001b[0m\u001b[0;34m)\u001b[0m\u001b[0;34m\u001b[0m\u001b[0;34m\u001b[0m\u001b[0m\n",
      "\u001b[0;31mTypeError\u001b[0m: unhashable type: 'numpy.ndarray'"
     ]
    },
    {
     "data": {
      "image/png": "[encoded data removed]",
      "text/plain": [
       "<Figure size 640x480 with 1 Axes>"
      ]
     },
     "metadata": {},
     "output_type": "display_data"
    }
   ],
   "source": [
    "# ndf.groupby(['ZIP_CODE'])['CRIME_TYPE'].count().plot.bar(xlabel = 'ZIP', rot=45)\n",
    "# plt.plot(['ZIP_CODE'],[['CRIME_TYPE'].count()])\n",
    "fig, ax = plt.subplots()\n",
    "ax.plot(ndf['ZIP_CODE'], ndf.groupby(['CRIME_TYPE']))\n",
    "plt.show()"
   ]
  },
  {
   "cell_type": "code",
   "execution_count": null,
   "metadata": {},
   "outputs": [],
   "source": [
    "ndf.groupby(['CRIME_TYPE']), ndf.groupby(['CRIME_TYPE', 'ZIP_CODE'])['CRIME_TYPE'].count()\n",
    "# plt.show()\n",
    "# ndf.plot(kind = 'bar', x = 'ZIP_CODE', y = [len(\"CRIME_TYPE\")])\n"
   ]
  }
 ],
 "metadata": {
  "kernelspec": {
   "display_name": "Python 3 (ipykernel)",
   "language": "python",
   "name": "python3"
  },
  "language_info": {
   "codemirror_mode": {
    "name": "ipython",
    "version": 3
   },
   "file_extension": ".py",
   "mimetype": "text/x-python",
   "name": "python",
   "nbconvert_exporter": "python",
   "pygments_lexer": "ipython3",
   "version": "3.10.9"
  },
  "vscode": {
   "interpreter": {
    "hash": "bbf6b1e44a74adad0e4d6c2bdc6230d7f1b5d34bbbf628593b294b0798f964d1"
   }
  }
 },
 "nbformat": 4,
 "nbformat_minor": 2
}
